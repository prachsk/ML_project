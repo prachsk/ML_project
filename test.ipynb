{
 "cells": [
  {
   "cell_type": "code",
   "execution_count": 21,
   "metadata": {},
   "outputs": [],
   "source": [
    "import numpy as np\n",
    "import pandas as pd\n",
    "from torch import tensor\n",
    "from sklearn.model_selection import train_test_split\n",
    "from sklearn.preprocessing import StandardScaler\n",
    "import matplotlib.pyplot as plt"
   ]
  },
  {
   "cell_type": "code",
   "execution_count": 2,
   "metadata": {},
   "outputs": [],
   "source": [
    "from LinearModels import LinearRegression, LogisticRegression"
   ]
  },
  {
   "cell_type": "code",
   "execution_count": 3,
   "metadata": {},
   "outputs": [],
   "source": [
    "from NeuralNet import ANN"
   ]
  },
  {
   "cell_type": "markdown",
   "metadata": {},
   "source": [
    "# Test the Linear Regression Model"
   ]
  },
  {
   "cell_type": "code",
   "execution_count": 4,
   "metadata": {},
   "outputs": [],
   "source": [
    "from sklearn.datasets import fetch_california_housing"
   ]
  },
  {
   "cell_type": "code",
   "execution_count": 5,
   "metadata": {},
   "outputs": [],
   "source": [
    "cal = fetch_california_housing()"
   ]
  },
  {
   "cell_type": "code",
   "execution_count": 6,
   "metadata": {},
   "outputs": [],
   "source": [
    "cal_df = pd.DataFrame(cal['data'], columns=cal['feature_names'])\n",
    "cal_df['target'] = cal['target']"
   ]
  },
  {
   "cell_type": "code",
   "execution_count": 7,
   "metadata": {},
   "outputs": [],
   "source": [
    "X_train, X_test, y_train, y_test = train_test_split(cal_df.iloc[:, :-1], cal_df.iloc[:, -1], test_size=0.2, random_state=42)"
   ]
  },
  {
   "cell_type": "code",
   "execution_count": 8,
   "metadata": {},
   "outputs": [],
   "source": [
    "X_train = X_train.values\n",
    "X_test = X_test.values\n",
    "y_test = y_test.values\n",
    "y_train = y_train.values"
   ]
  },
  {
   "cell_type": "code",
   "execution_count": 9,
   "metadata": {},
   "outputs": [],
   "source": [
    "# standardize features\n",
    "scaler_x = StandardScaler()\n",
    "X_train = scaler_x.fit_transform(X_train)\n",
    "X_test = scaler_x.transform(X_test)"
   ]
  },
  {
   "cell_type": "code",
   "execution_count": 10,
   "metadata": {},
   "outputs": [],
   "source": [
    "# standardize target\n",
    "scaler_y = StandardScaler()\n",
    "y_train = scaler_y.fit_transform(y_train.reshape(-1, 1)).flatten()"
   ]
  },
  {
   "cell_type": "code",
   "execution_count": 85,
   "metadata": {},
   "outputs": [],
   "source": [
    "reg = LinearRegression(lr=0.001, max_iter=100000)\n",
    "reg.fit(X_train, y_train)"
   ]
  },
  {
   "cell_type": "code",
   "execution_count": null,
   "metadata": {},
   "outputs": [],
   "source": [
    "# predict on test set and inverse transform the standardized target\n",
    "y_pred = reg.predict(X_test)\n",
    "# y_pred = scaler_y.inverse_transform(y_pred.reshape(-1, 1))"
   ]
  },
  {
   "cell_type": "code",
   "execution_count": null,
   "metadata": {},
   "outputs": [
    {
     "name": "stdout",
     "output_type": "stream",
     "text": [
      "MSE: 0.56\n"
     ]
    }
   ],
   "source": [
    "print(f'MSE: {(np.subtract(y_test, y_pred.flatten())**2).mean():.2f}')"
   ]
  },
  {
   "cell_type": "code",
   "execution_count": 33,
   "metadata": {},
   "outputs": [
    {
     "data": {
      "text/html": [
       "<div>\n",
       "<style scoped>\n",
       "    .dataframe tbody tr th:only-of-type {\n",
       "        vertical-align: middle;\n",
       "    }\n",
       "\n",
       "    .dataframe tbody tr th {\n",
       "        vertical-align: top;\n",
       "    }\n",
       "\n",
       "    .dataframe thead th {\n",
       "        text-align: right;\n",
       "    }\n",
       "</style>\n",
       "<table border=\"1\" class=\"dataframe\">\n",
       "  <thead>\n",
       "    <tr style=\"text-align: right;\">\n",
       "      <th></th>\n",
       "      <th>Weights</th>\n",
       "    </tr>\n",
       "  </thead>\n",
       "  <tbody>\n",
       "    <tr>\n",
       "      <th>MedInc</th>\n",
       "      <td>0.855446</td>\n",
       "    </tr>\n",
       "    <tr>\n",
       "      <th>HouseAge</th>\n",
       "      <td>0.122800</td>\n",
       "    </tr>\n",
       "    <tr>\n",
       "      <th>AveRooms</th>\n",
       "      <td>-0.296253</td>\n",
       "    </tr>\n",
       "    <tr>\n",
       "      <th>AveBedrms</th>\n",
       "      <td>0.340721</td>\n",
       "    </tr>\n",
       "    <tr>\n",
       "      <th>Population</th>\n",
       "      <td>-0.002228</td>\n",
       "    </tr>\n",
       "    <tr>\n",
       "      <th>AveOccup</th>\n",
       "      <td>-0.040880</td>\n",
       "    </tr>\n",
       "    <tr>\n",
       "      <th>Latitude</th>\n",
       "      <td>-0.894156</td>\n",
       "    </tr>\n",
       "    <tr>\n",
       "      <th>Longitude</th>\n",
       "      <td>-0.867189</td>\n",
       "    </tr>\n",
       "    <tr>\n",
       "      <th>bias</th>\n",
       "      <td>2.071947</td>\n",
       "    </tr>\n",
       "  </tbody>\n",
       "</table>\n",
       "</div>"
      ],
      "text/plain": [
       "             Weights\n",
       "MedInc      0.855446\n",
       "HouseAge    0.122800\n",
       "AveRooms   -0.296253\n",
       "AveBedrms   0.340721\n",
       "Population -0.002228\n",
       "AveOccup   -0.040880\n",
       "Latitude   -0.894156\n",
       "Longitude  -0.867189\n",
       "bias        2.071947"
      ]
     },
     "execution_count": 33,
     "metadata": {},
     "output_type": "execute_result"
    }
   ],
   "source": [
    "weight = pd.DataFrame(reg.weights, index=cal['feature_names'], columns=['Weights'])\n",
    "weight.loc['bias', 'Weights'] = reg.bias\n",
    "weight"
   ]
  },
  {
   "cell_type": "markdown",
   "metadata": {},
   "source": [
    "# Test Regressopm ANN"
   ]
  },
  {
   "cell_type": "code",
   "execution_count": 11,
   "metadata": {},
   "outputs": [
    {
     "data": {
      "text/plain": [
       "ANN(\n",
       "  (l1): Linear(in_features=8, out_features=8, bias=True)\n",
       "  (l2): Linear(in_features=8, out_features=1, bias=True)\n",
       "  (relu): ReLU()\n",
       ")"
      ]
     },
     "execution_count": 11,
     "metadata": {},
     "output_type": "execute_result"
    }
   ],
   "source": [
    "device = 'mps'\n",
    "ann = ANN(input_size=X_train.shape[1], hidden_size=8, output_size=1, problem='regression')\n",
    "ann.to(device)"
   ]
  },
  {
   "cell_type": "code",
   "execution_count": 12,
   "metadata": {},
   "outputs": [],
   "source": [
    "X_train = tensor(X_train.astype(np.float32)).to(device)\n",
    "y_train = tensor(y_train.astype(np.float32).reshape(-1, 1)).to(device)"
   ]
  },
  {
   "cell_type": "code",
   "execution_count": 13,
   "metadata": {},
   "outputs": [
    {
     "name": "stdout",
     "output_type": "stream",
     "text": [
      "Epoch [100/10000], Loss: 0.3590\n",
      "Epoch [200/10000], Loss: 0.3342\n",
      "Epoch [300/10000], Loss: 0.3231\n",
      "Epoch [400/10000], Loss: 0.3138\n",
      "Epoch [500/10000], Loss: 0.3056\n",
      "Epoch [600/10000], Loss: 0.2981\n",
      "Epoch [700/10000], Loss: 0.2915\n",
      "Epoch [800/10000], Loss: 0.2858\n",
      "Epoch [900/10000], Loss: 0.2815\n",
      "Epoch [1000/10000], Loss: 0.2782\n",
      "Epoch [1100/10000], Loss: 0.2758\n",
      "Epoch [1200/10000], Loss: 0.2739\n",
      "Epoch [1300/10000], Loss: 0.2721\n",
      "Epoch [1400/10000], Loss: 0.2703\n",
      "Epoch [1500/10000], Loss: 0.2688\n",
      "Epoch [1600/10000], Loss: 0.2675\n",
      "Epoch [1700/10000], Loss: 0.2664\n",
      "Epoch [1800/10000], Loss: 0.2656\n",
      "Epoch [1900/10000], Loss: 0.2649\n",
      "Epoch [2000/10000], Loss: 0.2643\n",
      "Epoch [2100/10000], Loss: 0.2646\n",
      "Epoch [2200/10000], Loss: 0.2655\n",
      "Epoch [2300/10000], Loss: 0.2652\n",
      "Epoch [2400/10000], Loss: 0.2649\n",
      "Epoch [2500/10000], Loss: 0.2652\n",
      "Epoch [2600/10000], Loss: 0.2652\n",
      "Epoch [2700/10000], Loss: 0.2641\n",
      "Epoch [2800/10000], Loss: 0.2643\n",
      "Epoch [2900/10000], Loss: 0.2642\n",
      "Epoch [3000/10000], Loss: 0.2641\n",
      "Epoch [3100/10000], Loss: 0.2636\n",
      "Epoch [3200/10000], Loss: 0.2635\n",
      "Epoch [3300/10000], Loss: 0.2618\n",
      "Epoch [3400/10000], Loss: 0.2605\n",
      "Epoch [3500/10000], Loss: 0.2611\n",
      "Epoch [3600/10000], Loss: 0.2609\n",
      "Epoch [3700/10000], Loss: 0.2605\n",
      "Epoch [3800/10000], Loss: 0.2600\n",
      "Epoch [3900/10000], Loss: 0.2597\n",
      "Epoch [4000/10000], Loss: 0.2588\n",
      "Epoch [4100/10000], Loss: 0.2587\n",
      "Epoch [4200/10000], Loss: 0.2581\n",
      "Epoch [4300/10000], Loss: 0.2573\n",
      "Epoch [4400/10000], Loss: 0.2580\n",
      "Epoch [4500/10000], Loss: 0.2585\n",
      "Epoch [4600/10000], Loss: 0.2578\n",
      "Epoch [4700/10000], Loss: 0.2575\n",
      "Epoch [4800/10000], Loss: 0.2563\n",
      "Epoch [4900/10000], Loss: 0.2560\n",
      "Epoch [5000/10000], Loss: 0.2551\n",
      "Epoch [5100/10000], Loss: 0.2551\n",
      "Epoch [5200/10000], Loss: 0.2549\n",
      "Epoch [5300/10000], Loss: 0.2544\n",
      "Epoch [5400/10000], Loss: 0.2542\n",
      "Epoch [5500/10000], Loss: 0.2534\n",
      "Epoch [5600/10000], Loss: 0.2529\n",
      "Epoch [5700/10000], Loss: 0.2530\n",
      "Epoch [5800/10000], Loss: 0.2536\n",
      "Epoch [5900/10000], Loss: 0.2540\n",
      "Epoch [6000/10000], Loss: 0.2543\n",
      "Epoch [6100/10000], Loss: 0.2543\n",
      "Epoch [6200/10000], Loss: 0.2540\n",
      "Epoch [6300/10000], Loss: 0.2550\n",
      "Epoch [6400/10000], Loss: 0.2518\n",
      "Epoch [6500/10000], Loss: 0.2520\n",
      "Epoch [6600/10000], Loss: 0.2521\n",
      "Epoch [6700/10000], Loss: 0.2518\n",
      "Epoch [6800/10000], Loss: 0.2520\n",
      "Epoch [6900/10000], Loss: 0.2520\n",
      "Epoch [7000/10000], Loss: 0.2514\n",
      "Epoch [7100/10000], Loss: 0.2519\n",
      "Epoch [7200/10000], Loss: 0.2525\n",
      "Epoch [7300/10000], Loss: 0.2528\n",
      "Epoch [7400/10000], Loss: 0.2533\n",
      "Epoch [7500/10000], Loss: 0.2520\n",
      "Epoch [7600/10000], Loss: 0.2512\n",
      "Epoch [7700/10000], Loss: 0.2515\n",
      "Epoch [7800/10000], Loss: 0.2546\n",
      "Epoch [7900/10000], Loss: 0.2548\n",
      "Epoch [8000/10000], Loss: 0.2531\n",
      "Epoch [8100/10000], Loss: 0.2531\n",
      "Epoch [8200/10000], Loss: 0.2532\n",
      "Epoch [8300/10000], Loss: 0.2509\n",
      "Epoch [8400/10000], Loss: 0.2557\n",
      "Epoch [8500/10000], Loss: 0.2534\n",
      "Epoch [8600/10000], Loss: 0.2526\n",
      "Epoch [8700/10000], Loss: 0.2542\n",
      "Epoch [8800/10000], Loss: 0.2538\n",
      "Epoch [8900/10000], Loss: 0.2518\n",
      "Epoch [9000/10000], Loss: 0.2538\n",
      "Epoch [9100/10000], Loss: 0.2535\n",
      "Epoch [9200/10000], Loss: 0.2543\n",
      "Epoch [9300/10000], Loss: 0.2536\n",
      "Epoch [9400/10000], Loss: 0.2533\n",
      "Epoch [9500/10000], Loss: 0.2547\n",
      "Epoch [9600/10000], Loss: 0.2544\n",
      "Epoch [9700/10000], Loss: 0.2546\n",
      "Epoch [9800/10000], Loss: 0.2543\n",
      "Epoch [9900/10000], Loss: 0.2524\n",
      "Epoch [10000/10000], Loss: 0.2529\n"
     ]
    }
   ],
   "source": [
    "ann.fit(X_train, y_train, max_iter=10000, lr=0.1)"
   ]
  },
  {
   "cell_type": "code",
   "execution_count": 14,
   "metadata": {},
   "outputs": [],
   "source": [
    "X_test = tensor(X_test.astype(np.float32)).to(device)"
   ]
  },
  {
   "cell_type": "code",
   "execution_count": 15,
   "metadata": {},
   "outputs": [],
   "source": [
    "y_pred = ann.predict(X_test)\n",
    "y_pred = y_pred.to('cpu').detach().numpy()"
   ]
  },
  {
   "cell_type": "code",
   "execution_count": 16,
   "metadata": {},
   "outputs": [],
   "source": [
    "# y_pred = scaler_y.inverse_transform(y_pred.reshape(-1, 1))\n",
    "y_pred = scaler_y.inverse_transform(y_pred)"
   ]
  },
  {
   "cell_type": "code",
   "execution_count": 17,
   "metadata": {},
   "outputs": [
    {
     "name": "stdout",
     "output_type": "stream",
     "text": [
      "MSE: 0.35\n"
     ]
    }
   ],
   "source": [
    "print(f'MSE: {(np.subtract(y_test, y_pred.flatten())**2).mean():.2f}')"
   ]
  },
  {
   "cell_type": "code",
   "execution_count": 23,
   "metadata": {},
   "outputs": [
    {
     "data": {
      "text/plain": [
       "[<matplotlib.lines.Line2D at 0x2adbb9a50>]"
      ]
     },
     "execution_count": 23,
     "metadata": {},
     "output_type": "execute_result"
    },
    {
     "data": {
      "image/png": "[encoded data removed]",
      "text/plain": [
       "<Figure size 640x480 with 1 Axes>"
      ]
     },
     "metadata": {},
     "output_type": "display_data"
    }
   ],
   "source": [
    "plt.plot(ann.loss)"
   ]
  },
  {
   "cell_type": "markdown",
   "metadata": {},
   "source": [
    "# Test the Logistic Regression Model"
   ]
  },
  {
   "cell_type": "code",
   "execution_count": 24,
   "metadata": {},
   "outputs": [],
   "source": [
    "from sklearn.datasets import load_breast_cancer"
   ]
  },
  {
   "cell_type": "code",
   "execution_count": 25,
   "metadata": {},
   "outputs": [],
   "source": [
    "wisc = load_breast_cancer()"
   ]
  },
  {
   "cell_type": "code",
   "execution_count": 26,
   "metadata": {},
   "outputs": [],
   "source": [
    "wisc_df = pd.DataFrame(wisc['data'], columns=wisc['feature_names'])\n",
    "wisc_df['target'] = wisc['target']"
   ]
  },
  {
   "cell_type": "code",
   "execution_count": 27,
   "metadata": {},
   "outputs": [],
   "source": [
    "X_train, X_test, y_train, y_test = train_test_split(wisc_df.iloc[:,:-1], wisc_df.iloc[:,-1], test_size=0.2, random_state=42)"
   ]
  },
  {
   "cell_type": "code",
   "execution_count": 28,
   "metadata": {},
   "outputs": [],
   "source": [
    "scaler = StandardScaler()\n",
    "X_train = scaler.fit_transform(X_train)\n",
    "X_test = scaler.transform(X_test)"
   ]
  },
  {
   "cell_type": "code",
   "execution_count": 16,
   "metadata": {},
   "outputs": [],
   "source": [
    "logreg = LogisticRegression(lr=0.01, max_iter=10000)\n",
    "logreg.fit(X_train, y_train)"
   ]
  },
  {
   "cell_type": "code",
   "execution_count": 17,
   "metadata": {},
   "outputs": [],
   "source": [
    "y_pred = logreg.predict(X_test)"
   ]
  },
  {
   "cell_type": "code",
   "execution_count": 18,
   "metadata": {},
   "outputs": [
    {
     "name": "stdout",
     "output_type": "stream",
     "text": [
      "Accuracy: 0.94\n"
     ]
    }
   ],
   "source": [
    "print(f\"Accuracy: {np.mean(y_pred == y_test):.2f}\")"
   ]
  },
  {
   "cell_type": "code",
   "execution_count": 19,
   "metadata": {},
   "outputs": [
    {
     "data": {
      "text/html": [
       "<div>\n",
       "<style scoped>\n",
       "    .dataframe tbody tr th:only-of-type {\n",
       "        vertical-align: middle;\n",
       "    }\n",
       "\n",
       "    .dataframe tbody tr th {\n",
       "        vertical-align: top;\n",
       "    }\n",
       "\n",
       "    .dataframe thead th {\n",
       "        text-align: right;\n",
       "    }\n",
       "</style>\n",
       "<table border=\"1\" class=\"dataframe\">\n",
       "  <thead>\n",
       "    <tr style=\"text-align: right;\">\n",
       "      <th></th>\n",
       "      <th>Weights</th>\n",
       "    </tr>\n",
       "  </thead>\n",
       "  <tbody>\n",
       "    <tr>\n",
       "      <th>mean radius</th>\n",
       "      <td>0.000036</td>\n",
       "    </tr>\n",
       "    <tr>\n",
       "      <th>mean texture</th>\n",
       "      <td>-0.000274</td>\n",
       "    </tr>\n",
       "    <tr>\n",
       "      <th>mean perimeter</th>\n",
       "      <td>0.000469</td>\n",
       "    </tr>\n",
       "    <tr>\n",
       "      <th>mean area</th>\n",
       "      <td>-0.000116</td>\n",
       "    </tr>\n",
       "    <tr>\n",
       "      <th>mean smoothness</th>\n",
       "      <td>-0.000047</td>\n",
       "    </tr>\n",
       "    <tr>\n",
       "      <th>mean compactness</th>\n",
       "      <td>0.003991</td>\n",
       "    </tr>\n",
       "    <tr>\n",
       "      <th>mean concavity</th>\n",
       "      <td>-0.001694</td>\n",
       "    </tr>\n",
       "    <tr>\n",
       "      <th>mean concave points</th>\n",
       "      <td>-0.002343</td>\n",
       "    </tr>\n",
       "    <tr>\n",
       "      <th>mean symmetry</th>\n",
       "      <td>0.000674</td>\n",
       "    </tr>\n",
       "    <tr>\n",
       "      <th>mean fractal dimension</th>\n",
       "      <td>-0.001515</td>\n",
       "    </tr>\n",
       "    <tr>\n",
       "      <th>radius error</th>\n",
       "      <td>-0.003339</td>\n",
       "    </tr>\n",
       "    <tr>\n",
       "      <th>texture error</th>\n",
       "      <td>0.000241</td>\n",
       "    </tr>\n",
       "    <tr>\n",
       "      <th>perimeter error</th>\n",
       "      <td>0.001418</td>\n",
       "    </tr>\n",
       "    <tr>\n",
       "      <th>area error</th>\n",
       "      <td>-0.001233</td>\n",
       "    </tr>\n",
       "    <tr>\n",
       "      <th>smoothness error</th>\n",
       "      <td>-0.000398</td>\n",
       "    </tr>\n",
       "    <tr>\n",
       "      <th>compactness error</th>\n",
       "      <td>-0.001180</td>\n",
       "    </tr>\n",
       "    <tr>\n",
       "      <th>concavity error</th>\n",
       "      <td>0.003038</td>\n",
       "    </tr>\n",
       "    <tr>\n",
       "      <th>concave points error</th>\n",
       "      <td>-0.001687</td>\n",
       "    </tr>\n",
       "    <tr>\n",
       "      <th>symmetry error</th>\n",
       "      <td>0.001110</td>\n",
       "    </tr>\n",
       "    <tr>\n",
       "      <th>fractal dimension error</th>\n",
       "      <td>0.001282</td>\n",
       "    </tr>\n",
       "    <tr>\n",
       "      <th>worst radius</th>\n",
       "      <td>-0.001322</td>\n",
       "    </tr>\n",
       "    <tr>\n",
       "      <th>worst texture</th>\n",
       "      <td>-0.000945</td>\n",
       "    </tr>\n",
       "    <tr>\n",
       "      <th>worst perimeter</th>\n",
       "      <td>0.000704</td>\n",
       "    </tr>\n",
       "    <tr>\n",
       "      <th>worst area</th>\n",
       "      <td>-0.001189</td>\n",
       "    </tr>\n",
       "    <tr>\n",
       "      <th>worst smoothness</th>\n",
       "      <td>0.000296</td>\n",
       "    </tr>\n",
       "    <tr>\n",
       "      <th>worst compactness</th>\n",
       "      <td>-0.000298</td>\n",
       "    </tr>\n",
       "    <tr>\n",
       "      <th>worst concavity</th>\n",
       "      <td>-0.002455</td>\n",
       "    </tr>\n",
       "    <tr>\n",
       "      <th>worst concave points</th>\n",
       "      <td>-0.000434</td>\n",
       "    </tr>\n",
       "    <tr>\n",
       "      <th>worst symmetry</th>\n",
       "      <td>-0.002003</td>\n",
       "    </tr>\n",
       "    <tr>\n",
       "      <th>worst fractal dimension</th>\n",
       "      <td>0.000678</td>\n",
       "    </tr>\n",
       "    <tr>\n",
       "      <th>bias</th>\n",
       "      <td>-0.000484</td>\n",
       "    </tr>\n",
       "  </tbody>\n",
       "</table>\n",
       "</div>"
      ],
      "text/plain": [
       "                          Weights\n",
       "mean radius              0.000036\n",
       "mean texture            -0.000274\n",
       "mean perimeter           0.000469\n",
       "mean area               -0.000116\n",
       "mean smoothness         -0.000047\n",
       "mean compactness         0.003991\n",
       "mean concavity          -0.001694\n",
       "mean concave points     -0.002343\n",
       "mean symmetry            0.000674\n",
       "mean fractal dimension  -0.001515\n",
       "radius error            -0.003339\n",
       "texture error            0.000241\n",
       "perimeter error          0.001418\n",
       "area error              -0.001233\n",
       "smoothness error        -0.000398\n",
       "compactness error       -0.001180\n",
       "concavity error          0.003038\n",
       "concave points error    -0.001687\n",
       "symmetry error           0.001110\n",
       "fractal dimension error  0.001282\n",
       "worst radius            -0.001322\n",
       "worst texture           -0.000945\n",
       "worst perimeter          0.000704\n",
       "worst area              -0.001189\n",
       "worst smoothness         0.000296\n",
       "worst compactness       -0.000298\n",
       "worst concavity         -0.002455\n",
       "worst concave points    -0.000434\n",
       "worst symmetry          -0.002003\n",
       "worst fractal dimension  0.000678\n",
       "bias                    -0.000484"
      ]
     },
     "execution_count": 19,
     "metadata": {},
     "output_type": "execute_result"
    }
   ],
   "source": [
    "weight = pd.DataFrame(logreg.weights, index=wisc['feature_names'], columns=['Weights'])\n",
    "weight.loc['bias', 'Weights'] = logreg.bias\n",
    "weight"
   ]
  },
  {
   "cell_type": "markdown",
   "metadata": {},
   "source": [
    "# Test classification ANN"
   ]
  },
  {
   "cell_type": "code",
   "execution_count": 30,
   "metadata": {},
   "outputs": [],
   "source": [
    "ann = ANN(X_train.shape[1], 8, 1, problem='classification')"
   ]
  },
  {
   "cell_type": "code",
   "execution_count": 31,
   "metadata": {},
   "outputs": [],
   "source": [
    "device = 'mps'\n",
    "ann.to(device)\n",
    "X_train = tensor(X_train.astype(np.float32)).to(device)\n",
    "y_train = tensor(y_train.values.astype(np.float32).reshape(-1, 1)).to(device)"
   ]
  },
  {
   "cell_type": "code",
   "execution_count": 32,
   "metadata": {},
   "outputs": [
    {
     "name": "stdout",
     "output_type": "stream",
     "text": [
      "Epoch [100/10000], Loss: 0.4364\n",
      "Epoch [200/10000], Loss: 0.2934\n",
      "Epoch [300/10000], Loss: 0.2147\n",
      "Epoch [400/10000], Loss: 0.1714\n",
      "Epoch [500/10000], Loss: 0.1455\n",
      "Epoch [600/10000], Loss: 0.1285\n",
      "Epoch [700/10000], Loss: 0.1166\n",
      "Epoch [800/10000], Loss: 0.1076\n",
      "Epoch [900/10000], Loss: 0.1007\n",
      "Epoch [1000/10000], Loss: 0.0953\n",
      "Epoch [1100/10000], Loss: 0.0908\n",
      "Epoch [1200/10000], Loss: 0.0870\n",
      "Epoch [1300/10000], Loss: 0.0838\n",
      "Epoch [1400/10000], Loss: 0.0811\n",
      "Epoch [1500/10000], Loss: 0.0786\n",
      "Epoch [1600/10000], Loss: 0.0765\n",
      "Epoch [1700/10000], Loss: 0.0745\n",
      "Epoch [1800/10000], Loss: 0.0727\n",
      "Epoch [1900/10000], Loss: 0.0711\n",
      "Epoch [2000/10000], Loss: 0.0696\n",
      "Epoch [2100/10000], Loss: 0.0682\n",
      "Epoch [2200/10000], Loss: 0.0669\n",
      "Epoch [2300/10000], Loss: 0.0658\n",
      "Epoch [2400/10000], Loss: 0.0647\n",
      "Epoch [2500/10000], Loss: 0.0636\n",
      "Epoch [2600/10000], Loss: 0.0626\n",
      "Epoch [2700/10000], Loss: 0.0617\n",
      "Epoch [2800/10000], Loss: 0.0609\n",
      "Epoch [2900/10000], Loss: 0.0601\n",
      "Epoch [3000/10000], Loss: 0.0593\n",
      "Epoch [3100/10000], Loss: 0.0586\n",
      "Epoch [3200/10000], Loss: 0.0579\n",
      "Epoch [3300/10000], Loss: 0.0572\n",
      "Epoch [3400/10000], Loss: 0.0566\n",
      "Epoch [3500/10000], Loss: 0.0560\n",
      "Epoch [3600/10000], Loss: 0.0555\n",
      "Epoch [3700/10000], Loss: 0.0550\n",
      "Epoch [3800/10000], Loss: 0.0545\n",
      "Epoch [3900/10000], Loss: 0.0540\n",
      "Epoch [4000/10000], Loss: 0.0535\n",
      "Epoch [4100/10000], Loss: 0.0530\n",
      "Epoch [4200/10000], Loss: 0.0526\n",
      "Epoch [4300/10000], Loss: 0.0522\n",
      "Epoch [4400/10000], Loss: 0.0518\n",
      "Epoch [4500/10000], Loss: 0.0514\n",
      "Epoch [4600/10000], Loss: 0.0510\n",
      "Epoch [4700/10000], Loss: 0.0507\n",
      "Epoch [4800/10000], Loss: 0.0503\n",
      "Epoch [4900/10000], Loss: 0.0500\n",
      "Epoch [5000/10000], Loss: 0.0496\n",
      "Epoch [5100/10000], Loss: 0.0493\n",
      "Epoch [5200/10000], Loss: 0.0490\n",
      "Epoch [5300/10000], Loss: 0.0486\n",
      "Epoch [5400/10000], Loss: 0.0483\n",
      "Epoch [5500/10000], Loss: 0.0480\n",
      "Epoch [5600/10000], Loss: 0.0477\n",
      "Epoch [5700/10000], Loss: 0.0474\n",
      "Epoch [5800/10000], Loss: 0.0471\n",
      "Epoch [5900/10000], Loss: 0.0468\n",
      "Epoch [6000/10000], Loss: 0.0465\n",
      "Epoch [6100/10000], Loss: 0.0463\n",
      "Epoch [6200/10000], Loss: 0.0460\n",
      "Epoch [6300/10000], Loss: 0.0457\n",
      "Epoch [6400/10000], Loss: 0.0455\n",
      "Epoch [6500/10000], Loss: 0.0452\n",
      "Epoch [6600/10000], Loss: 0.0449\n",
      "Epoch [6700/10000], Loss: 0.0447\n",
      "Epoch [6800/10000], Loss: 0.0444\n",
      "Epoch [6900/10000], Loss: 0.0442\n",
      "Epoch [7000/10000], Loss: 0.0439\n",
      "Epoch [7100/10000], Loss: 0.0437\n",
      "Epoch [7200/10000], Loss: 0.0434\n",
      "Epoch [7300/10000], Loss: 0.0432\n",
      "Epoch [7400/10000], Loss: 0.0430\n",
      "Epoch [7500/10000], Loss: 0.0427\n",
      "Epoch [7600/10000], Loss: 0.0425\n",
      "Epoch [7700/10000], Loss: 0.0423\n",
      "Epoch [7800/10000], Loss: 0.0421\n",
      "Epoch [7900/10000], Loss: 0.0418\n",
      "Epoch [8000/10000], Loss: 0.0416\n",
      "Epoch [8100/10000], Loss: 0.0414\n",
      "Epoch [8200/10000], Loss: 0.0412\n",
      "Epoch [8300/10000], Loss: 0.0409\n",
      "Epoch [8400/10000], Loss: 0.0407\n",
      "Epoch [8500/10000], Loss: 0.0405\n",
      "Epoch [8600/10000], Loss: 0.0403\n",
      "Epoch [8700/10000], Loss: 0.0401\n",
      "Epoch [8800/10000], Loss: 0.0399\n",
      "Epoch [8900/10000], Loss: 0.0397\n",
      "Epoch [9000/10000], Loss: 0.0395\n",
      "Epoch [9100/10000], Loss: 0.0392\n",
      "Epoch [9200/10000], Loss: 0.0390\n",
      "Epoch [9300/10000], Loss: 0.0388\n",
      "Epoch [9400/10000], Loss: 0.0386\n",
      "Epoch [9500/10000], Loss: 0.0384\n",
      "Epoch [9600/10000], Loss: 0.0382\n",
      "Epoch [9700/10000], Loss: 0.0380\n",
      "Epoch [9800/10000], Loss: 0.0378\n",
      "Epoch [9900/10000], Loss: 0.0376\n",
      "Epoch [10000/10000], Loss: 0.0374\n"
     ]
    }
   ],
   "source": [
    "ann.fit(X_train, y_train, max_iter=10000, lr=0.01)"
   ]
  },
  {
   "cell_type": "code",
   "execution_count": 33,
   "metadata": {},
   "outputs": [],
   "source": [
    "X_test = tensor(X_test.astype(np.float32)).to(device)"
   ]
  },
  {
   "cell_type": "code",
   "execution_count": 34,
   "metadata": {},
   "outputs": [],
   "source": [
    "y_pred = ann.predict(X_test)"
   ]
  },
  {
   "cell_type": "code",
   "execution_count": 35,
   "metadata": {},
   "outputs": [],
   "source": [
    "y_pred = (y_pred > 0.5).int().flatten().to('cpu').numpy()"
   ]
  },
  {
   "cell_type": "code",
   "execution_count": 36,
   "metadata": {},
   "outputs": [
    {
     "name": "stdout",
     "output_type": "stream",
     "text": [
      "Accuracy: 0.99\n"
     ]
    }
   ],
   "source": [
    "print(f\"Accuracy: {np.mean(y_pred == y_test.values.flatten()):.2f}\")"
   ]
  },
  {
   "cell_type": "code",
   "execution_count": 37,
   "metadata": {},
   "outputs": [
    {
     "data": {
      "text/plain": [
       "[<matplotlib.lines.Line2D at 0x2adef5d80>]"
      ]
     },
     "execution_count": 37,
     "metadata": {},
     "output_type": "execute_result"
    },
    {
     "data": {
      "image/png": "[encoded data removed]",
      "text/plain": [
       "<Figure size 640x480 with 1 Axes>"
      ]
     },
     "metadata": {},
     "output_type": "display_data"
    }
   ],
   "source": [
    "plt.plot(ann.loss)"
   ]
  },
  {
   "cell_type": "code",
   "execution_count": null,
   "metadata": {},
   "outputs": [],
   "source": []
  }
 ],
 "metadata": {
  "kernelspec": {
   "display_name": "365_DS",
   "language": "python",
   "name": "python3"
  },
  "language_info": {
   "codemirror_mode": {
    "name": "ipython",
    "version": 3
   },
   "file_extension": ".py",
   "mimetype": "text/x-python",
   "name": "python",
   "nbconvert_exporter": "python",
   "pygments_lexer": "ipython3",
   "version": "3.10.12"
  }
 },
 "nbformat": 4,
 "nbformat_minor": 2
}
