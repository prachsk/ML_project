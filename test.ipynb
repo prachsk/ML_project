{
 "cells": [
  {
   "cell_type": "code",
   "execution_count": 1,
   "metadata": {},
   "outputs": [],
   "source": [
    "import numpy as np\n",
    "import pandas as pd\n",
    "import torch\n",
    "from torch import tensor, nn\n",
    "from sklearn.model_selection import train_test_split\n",
    "from sklearn.preprocessing import StandardScaler\n",
    "import matplotlib.pyplot as plt"
   ]
  },
  {
   "cell_type": "code",
   "execution_count": 2,
   "metadata": {},
   "outputs": [],
   "source": [
    "from LinearModels import LinearRegression, LogisticRegression, LassoRegression"
   ]
  },
  {
   "cell_type": "code",
   "execution_count": 3,
   "metadata": {},
   "outputs": [],
   "source": [
    "from NeuralNet import ANN"
   ]
  },
  {
   "cell_type": "markdown",
   "metadata": {},
   "source": [
    "# Test the Linear Regression Model"
   ]
  },
  {
   "cell_type": "code",
   "execution_count": 34,
   "metadata": {},
   "outputs": [],
   "source": [
    "from sklearn.datasets import fetch_california_housing"
   ]
  },
  {
   "cell_type": "code",
   "execution_count": 35,
   "metadata": {},
   "outputs": [],
   "source": [
    "cal = fetch_california_housing()"
   ]
  },
  {
   "cell_type": "code",
   "execution_count": 36,
   "metadata": {},
   "outputs": [],
   "source": [
    "cal_df = pd.DataFrame(cal['data'], columns=cal['feature_names'])\n",
    "cal_df['target'] = cal['target']"
   ]
  },
  {
   "cell_type": "code",
   "execution_count": 37,
   "metadata": {},
   "outputs": [],
   "source": [
    "X_train, X_test, y_train, y_test = train_test_split(cal_df.iloc[:, :-1], cal_df.iloc[:, -1], test_size=0.2, random_state=42)"
   ]
  },
  {
   "cell_type": "code",
   "execution_count": 38,
   "metadata": {},
   "outputs": [],
   "source": [
    "X_train = X_train.values\n",
    "X_test = X_test.values\n",
    "y_test = y_test.values\n",
    "y_train = y_train.values"
   ]
  },
  {
   "cell_type": "code",
   "execution_count": 39,
   "metadata": {},
   "outputs": [],
   "source": [
    "# standardize features\n",
    "scaler_x = StandardScaler()\n",
    "X_train = scaler_x.fit_transform(X_train)\n",
    "X_test = scaler_x.transform(X_test)"
   ]
  },
  {
   "cell_type": "code",
   "execution_count": 40,
   "metadata": {},
   "outputs": [],
   "source": [
    "# standardize target\n",
    "scaler_y = StandardScaler()\n",
    "y_train = scaler_y.fit_transform(y_train.reshape(-1, 1)).flatten()"
   ]
  },
  {
   "cell_type": "code",
   "execution_count": 41,
   "metadata": {},
   "outputs": [],
   "source": [
    "reg = LinearRegression(lr=0.1, max_iter=10000)\n",
    "reg.fit(X_train, y_train)"
   ]
  },
  {
   "cell_type": "code",
   "execution_count": 42,
   "metadata": {},
   "outputs": [],
   "source": [
    "# predict on test set and inverse transform the standardized target\n",
    "y_pred = reg.predict(X_test)\n",
    "y_pred = scaler_y.inverse_transform(y_pred.reshape(-1, 1))"
   ]
  },
  {
   "cell_type": "code",
   "execution_count": 43,
   "metadata": {},
   "outputs": [
    {
     "name": "stdout",
     "output_type": "stream",
     "text": [
      "MSE: 0.56\n"
     ]
    }
   ],
   "source": [
    "print(f'MSE: {(np.subtract(y_test, y_pred.flatten())**2).mean():.2f}')"
   ]
  },
  {
   "cell_type": "code",
   "execution_count": 44,
   "metadata": {},
   "outputs": [
    {
     "data": {
      "text/html": [
       "<div>\n",
       "<style scoped>\n",
       "    .dataframe tbody tr th:only-of-type {\n",
       "        vertical-align: middle;\n",
       "    }\n",
       "\n",
       "    .dataframe tbody tr th {\n",
       "        vertical-align: top;\n",
       "    }\n",
       "\n",
       "    .dataframe thead th {\n",
       "        text-align: right;\n",
       "    }\n",
       "</style>\n",
       "<table border=\"1\" class=\"dataframe\">\n",
       "  <thead>\n",
       "    <tr style=\"text-align: right;\">\n",
       "      <th></th>\n",
       "      <th>Weights</th>\n",
       "    </tr>\n",
       "  </thead>\n",
       "  <tbody>\n",
       "    <tr>\n",
       "      <th>MedInc</th>\n",
       "      <td>7.389634e-01</td>\n",
       "    </tr>\n",
       "    <tr>\n",
       "      <th>HouseAge</th>\n",
       "      <td>1.059913e-01</td>\n",
       "    </tr>\n",
       "    <tr>\n",
       "      <th>AveRooms</th>\n",
       "      <td>-2.546379e-01</td>\n",
       "    </tr>\n",
       "    <tr>\n",
       "      <th>AveBedrms</th>\n",
       "      <td>2.934285e-01</td>\n",
       "    </tr>\n",
       "    <tr>\n",
       "      <th>Population</th>\n",
       "      <td>-1.995970e-03</td>\n",
       "    </tr>\n",
       "    <tr>\n",
       "      <th>AveOccup</th>\n",
       "      <td>-3.531345e-02</td>\n",
       "    </tr>\n",
       "    <tr>\n",
       "      <th>Latitude</th>\n",
       "      <td>-7.757617e-01</td>\n",
       "    </tr>\n",
       "    <tr>\n",
       "      <th>Longitude</th>\n",
       "      <td>-7.523338e-01</td>\n",
       "    </tr>\n",
       "    <tr>\n",
       "      <th>bias</th>\n",
       "      <td>1.441009e-15</td>\n",
       "    </tr>\n",
       "  </tbody>\n",
       "</table>\n",
       "</div>"
      ],
      "text/plain": [
       "                 Weights\n",
       "MedInc      7.389634e-01\n",
       "HouseAge    1.059913e-01\n",
       "AveRooms   -2.546379e-01\n",
       "AveBedrms   2.934285e-01\n",
       "Population -1.995970e-03\n",
       "AveOccup   -3.531345e-02\n",
       "Latitude   -7.757617e-01\n",
       "Longitude  -7.523338e-01\n",
       "bias        1.441009e-15"
      ]
     },
     "execution_count": 44,
     "metadata": {},
     "output_type": "execute_result"
    }
   ],
   "source": [
    "weight = pd.DataFrame(reg.weights, index=cal['feature_names'], columns=['Weights'])\n",
    "weight.loc['bias', 'Weights'] = reg.bias\n",
    "weight"
   ]
  },
  {
   "cell_type": "code",
   "execution_count": 49,
   "metadata": {},
   "outputs": [],
   "source": [
    "reg = LassoRegression(lr=0.001, max_iter=10000)\n",
    "reg.fit(X_train, y_train)"
   ]
  },
  {
   "cell_type": "code",
   "execution_count": 50,
   "metadata": {},
   "outputs": [],
   "source": [
    "# predict on test set and inverse transform the standardized target\n",
    "y_pred = reg.predict(X_test)\n",
    "y_pred = scaler_y.inverse_transform(y_pred.reshape(-1, 1))"
   ]
  },
  {
   "cell_type": "code",
   "execution_count": 51,
   "metadata": {},
   "outputs": [
    {
     "name": "stdout",
     "output_type": "stream",
     "text": [
      "MSE: 0.56\n"
     ]
    }
   ],
   "source": [
    "print(f'MSE: {(np.subtract(y_test, y_pred.flatten())**2).mean():.2f}')"
   ]
  },
  {
   "cell_type": "code",
   "execution_count": 52,
   "metadata": {},
   "outputs": [
    {
     "data": {
      "text/html": [
       "<div>\n",
       "<style scoped>\n",
       "    .dataframe tbody tr th:only-of-type {\n",
       "        vertical-align: middle;\n",
       "    }\n",
       "\n",
       "    .dataframe tbody tr th {\n",
       "        vertical-align: top;\n",
       "    }\n",
       "\n",
       "    .dataframe thead th {\n",
       "        text-align: right;\n",
       "    }\n",
       "</style>\n",
       "<table border=\"1\" class=\"dataframe\">\n",
       "  <thead>\n",
       "    <tr style=\"text-align: right;\">\n",
       "      <th></th>\n",
       "      <th>Weights</th>\n",
       "    </tr>\n",
       "  </thead>\n",
       "  <tbody>\n",
       "    <tr>\n",
       "      <th>MedInc</th>\n",
       "      <td>7.235257e-01</td>\n",
       "    </tr>\n",
       "    <tr>\n",
       "      <th>HouseAge</th>\n",
       "      <td>1.635581e-01</td>\n",
       "    </tr>\n",
       "    <tr>\n",
       "      <th>AveRooms</th>\n",
       "      <td>-1.300928e-01</td>\n",
       "    </tr>\n",
       "    <tr>\n",
       "      <th>AveBedrms</th>\n",
       "      <td>1.540164e-01</td>\n",
       "    </tr>\n",
       "    <tr>\n",
       "      <th>Population</th>\n",
       "      <td>2.831524e-02</td>\n",
       "    </tr>\n",
       "    <tr>\n",
       "      <th>AveOccup</th>\n",
       "      <td>-4.997777e-02</td>\n",
       "    </tr>\n",
       "    <tr>\n",
       "      <th>Latitude</th>\n",
       "      <td>-4.885429e-01</td>\n",
       "    </tr>\n",
       "    <tr>\n",
       "      <th>Longitude</th>\n",
       "      <td>-4.588614e-01</td>\n",
       "    </tr>\n",
       "    <tr>\n",
       "      <th>bias</th>\n",
       "      <td>8.412798e-16</td>\n",
       "    </tr>\n",
       "  </tbody>\n",
       "</table>\n",
       "</div>"
      ],
      "text/plain": [
       "                 Weights\n",
       "MedInc      7.235257e-01\n",
       "HouseAge    1.635581e-01\n",
       "AveRooms   -1.300928e-01\n",
       "AveBedrms   1.540164e-01\n",
       "Population  2.831524e-02\n",
       "AveOccup   -4.997777e-02\n",
       "Latitude   -4.885429e-01\n",
       "Longitude  -4.588614e-01\n",
       "bias        8.412798e-16"
      ]
     },
     "execution_count": 52,
     "metadata": {},
     "output_type": "execute_result"
    }
   ],
   "source": [
    "weight = pd.DataFrame(reg.weights, index=cal['feature_names'], columns=['Weights'])\n",
    "weight.loc['bias', 'Weights'] = reg.bias\n",
    "weight"
   ]
  },
  {
   "cell_type": "markdown",
   "metadata": {},
   "source": [
    "# Test Regressopm ANN"
   ]
  },
  {
   "cell_type": "code",
   "execution_count": 15,
   "metadata": {},
   "outputs": [
    {
     "data": {
      "text/plain": [
       "ANN(\n",
       "  (l1): Linear(in_features=8, out_features=4, bias=True)\n",
       "  (l2): Linear(in_features=4, out_features=4, bias=True)\n",
       "  (l3): Linear(in_features=4, out_features=1, bias=True)\n",
       "  (relu): ReLU()\n",
       ")"
      ]
     },
     "execution_count": 15,
     "metadata": {},
     "output_type": "execute_result"
    }
   ],
   "source": [
    "device = 'mps'\n",
    "ann = ANN(input_size=X_train.shape[1], hidden_size=4, output_size=1, problem='regression')\n",
    "ann.to(device)"
   ]
  },
  {
   "cell_type": "code",
   "execution_count": 12,
   "metadata": {},
   "outputs": [],
   "source": [
    "X_train = tensor(X_train.astype(np.float32)).to(device)\n",
    "X_test = tensor(X_test.astype(np.float32)).to(device)\n",
    "y_train = tensor(y_train.astype(np.float32).reshape(-1, 1)).to(device)"
   ]
  },
  {
   "cell_type": "code",
   "execution_count": 16,
   "metadata": {},
   "outputs": [
    {
     "name": "stdout",
     "output_type": "stream",
     "text": [
      "Epoch [100/10000], Loss: 0.3657\n",
      "Epoch [200/10000], Loss: 0.3303\n",
      "Epoch [300/10000], Loss: 0.3143\n",
      "Epoch [400/10000], Loss: 0.3031\n",
      "Epoch [500/10000], Loss: 0.3131\n",
      "Epoch [600/10000], Loss: 0.3099\n",
      "Epoch [700/10000], Loss: 0.3051\n",
      "Epoch [800/10000], Loss: 0.3026\n",
      "Epoch [900/10000], Loss: 0.3005\n",
      "Epoch [1000/10000], Loss: 0.2974\n",
      "Epoch [1100/10000], Loss: 0.2952\n",
      "Epoch [1200/10000], Loss: 0.2936\n",
      "Epoch [1300/10000], Loss: 0.2912\n",
      "Epoch [1400/10000], Loss: 0.2897\n",
      "Epoch [1500/10000], Loss: 0.2878\n",
      "Epoch [1600/10000], Loss: 0.2866\n",
      "Epoch [1700/10000], Loss: 0.2845\n",
      "Epoch [1800/10000], Loss: 0.2851\n",
      "Epoch [1900/10000], Loss: 0.2830\n",
      "Epoch [2000/10000], Loss: 0.2828\n",
      "Epoch [2100/10000], Loss: 0.2820\n",
      "Epoch [2200/10000], Loss: 0.2805\n",
      "Epoch [2300/10000], Loss: 0.2793\n",
      "Epoch [2400/10000], Loss: 0.2781\n",
      "Epoch [2500/10000], Loss: 0.2767\n",
      "Epoch [2600/10000], Loss: 0.2771\n",
      "Epoch [2700/10000], Loss: 0.2762\n",
      "Epoch [2800/10000], Loss: 0.2748\n",
      "Epoch [2900/10000], Loss: 0.2743\n",
      "Epoch [3000/10000], Loss: 0.2739\n",
      "Epoch [3100/10000], Loss: 0.2725\n",
      "Epoch [3200/10000], Loss: 0.2720\n",
      "Epoch [3300/10000], Loss: 0.2720\n",
      "Epoch [3400/10000], Loss: 0.2721\n",
      "Epoch [3500/10000], Loss: 0.2696\n",
      "Epoch [3600/10000], Loss: 0.2701\n",
      "Epoch [3700/10000], Loss: 0.2700\n",
      "Epoch [3800/10000], Loss: 0.2696\n",
      "Epoch [3900/10000], Loss: 0.2684\n",
      "Epoch [4000/10000], Loss: 0.2675\n",
      "Epoch [4100/10000], Loss: 0.2676\n",
      "Epoch [4200/10000], Loss: 0.2674\n",
      "Epoch [4300/10000], Loss: 0.2674\n",
      "Epoch [4400/10000], Loss: 0.2668\n",
      "Epoch [4500/10000], Loss: 0.2667\n",
      "Epoch [4600/10000], Loss: 0.2665\n",
      "Epoch [4700/10000], Loss: 0.2664\n",
      "Epoch [4800/10000], Loss: 0.2644\n",
      "Epoch [4900/10000], Loss: 0.2649\n",
      "Epoch [5000/10000], Loss: 0.2655\n",
      "Epoch [5100/10000], Loss: 0.2629\n",
      "Epoch [5200/10000], Loss: 0.2623\n",
      "Epoch [5300/10000], Loss: 0.2621\n",
      "Epoch [5400/10000], Loss: 0.2616\n",
      "Epoch [5500/10000], Loss: 0.2600\n",
      "Epoch [5600/10000], Loss: 0.2593\n",
      "Epoch [5700/10000], Loss: 0.2584\n",
      "Epoch [5800/10000], Loss: 0.2575\n",
      "Epoch [5900/10000], Loss: 0.2588\n",
      "Epoch [6000/10000], Loss: 0.2566\n",
      "Epoch [6100/10000], Loss: 0.2564\n",
      "Epoch [6200/10000], Loss: 0.2560\n",
      "Epoch [6300/10000], Loss: 0.2551\n",
      "Epoch [6400/10000], Loss: 0.2547\n",
      "Epoch [6500/10000], Loss: 0.2535\n",
      "Epoch [6600/10000], Loss: 0.2532\n",
      "Epoch [6700/10000], Loss: 0.2531\n",
      "Epoch [6800/10000], Loss: 0.2520\n",
      "Epoch [6900/10000], Loss: 0.2517\n",
      "Epoch [7000/10000], Loss: 0.2512\n",
      "Epoch [7100/10000], Loss: 0.2503\n",
      "Epoch [7200/10000], Loss: 0.2500\n",
      "Epoch [7300/10000], Loss: 0.2494\n",
      "Epoch [7400/10000], Loss: 0.2488\n",
      "Epoch [7500/10000], Loss: 0.2486\n",
      "Epoch [7600/10000], Loss: 0.2480\n",
      "Epoch [7700/10000], Loss: 0.2476\n",
      "Epoch [7800/10000], Loss: 0.2468\n",
      "Epoch [7900/10000], Loss: 0.2467\n",
      "Epoch [8000/10000], Loss: 0.2462\n",
      "Epoch [8100/10000], Loss: 0.2457\n",
      "Epoch [8200/10000], Loss: 0.2453\n",
      "Epoch [8300/10000], Loss: 0.2451\n",
      "Epoch [8400/10000], Loss: 0.2445\n",
      "Epoch [8500/10000], Loss: 0.2452\n",
      "Epoch [8600/10000], Loss: 0.2440\n",
      "Epoch [8700/10000], Loss: 0.2435\n",
      "Epoch [8800/10000], Loss: 0.2428\n",
      "Epoch [8900/10000], Loss: 0.2412\n",
      "Epoch [9000/10000], Loss: 0.2410\n",
      "Epoch [9100/10000], Loss: 0.2443\n",
      "Epoch [9200/10000], Loss: 0.2417\n",
      "Epoch [9300/10000], Loss: 0.2412\n",
      "Epoch [9400/10000], Loss: 0.2437\n",
      "Epoch [9500/10000], Loss: 0.2414\n",
      "Epoch [9600/10000], Loss: 0.2436\n",
      "Epoch [9700/10000], Loss: 0.2406\n",
      "Epoch [9800/10000], Loss: 0.2413\n",
      "Epoch [9900/10000], Loss: 0.2418\n",
      "Epoch [10000/10000], Loss: 0.2412\n"
     ]
    }
   ],
   "source": [
    "ann.fit(X_train, y_train, max_iter=10000, lr=0.1)"
   ]
  },
  {
   "cell_type": "code",
   "execution_count": 19,
   "metadata": {},
   "outputs": [],
   "source": [
    "y_pred = ann.predict(X_test)\n",
    "y_pred = y_pred.to('cpu').detach().numpy()"
   ]
  },
  {
   "cell_type": "code",
   "execution_count": 20,
   "metadata": {},
   "outputs": [],
   "source": [
    "# y_pred = scaler_y.inverse_transform(y_pred.reshape(-1, 1))\n",
    "y_pred = scaler_y.inverse_transform(y_pred)"
   ]
  },
  {
   "cell_type": "code",
   "execution_count": 21,
   "metadata": {},
   "outputs": [
    {
     "name": "stdout",
     "output_type": "stream",
     "text": [
      "MSE: 0.33\n"
     ]
    }
   ],
   "source": [
    "print(f'MSE: {(np.subtract(y_test, y_pred.flatten())**2).mean():.2f}')"
   ]
  },
  {
   "cell_type": "code",
   "execution_count": 22,
   "metadata": {},
   "outputs": [
    {
     "data": {
      "text/plain": [
       "[<matplotlib.lines.Line2D at 0x2af637e50>]"
      ]
     },
     "execution_count": 22,
     "metadata": {},
     "output_type": "execute_result"
    },
    {
     "data": {
      "image/png": "[encoded data removed]",
      "text/plain": [
       "<Figure size 640x480 with 1 Axes>"
      ]
     },
     "metadata": {},
     "output_type": "display_data"
    }
   ],
   "source": [
    "plt.plot(ann.loss)"
   ]
  },
  {
   "cell_type": "markdown",
   "metadata": {},
   "source": [
    "# Test the Logistic Regression Model"
   ]
  },
  {
   "cell_type": "code",
   "execution_count": 19,
   "metadata": {},
   "outputs": [],
   "source": [
    "from sklearn.datasets import load_breast_cancer"
   ]
  },
  {
   "cell_type": "code",
   "execution_count": 20,
   "metadata": {},
   "outputs": [],
   "source": [
    "wisc = load_breast_cancer()"
   ]
  },
  {
   "cell_type": "code",
   "execution_count": 21,
   "metadata": {},
   "outputs": [],
   "source": [
    "wisc_df = pd.DataFrame(wisc['data'], columns=wisc['feature_names'])\n",
    "wisc_df['target'] = wisc['target']"
   ]
  },
  {
   "cell_type": "code",
   "execution_count": 22,
   "metadata": {},
   "outputs": [],
   "source": [
    "X_train, X_test, y_train, y_test = train_test_split(wisc_df.iloc[:,:-1], wisc_df.iloc[:,-1], test_size=0.2, random_state=42)"
   ]
  },
  {
   "cell_type": "code",
   "execution_count": 23,
   "metadata": {},
   "outputs": [],
   "source": [
    "scaler = StandardScaler()\n",
    "X_train = scaler.fit_transform(X_train)\n",
    "X_test = scaler.transform(X_test)"
   ]
  },
  {
   "cell_type": "code",
   "execution_count": 24,
   "metadata": {},
   "outputs": [],
   "source": [
    "logreg = LogisticRegression(lr=0.01, max_iter=10000)\n",
    "logreg.fit(X_train, y_train)"
   ]
  },
  {
   "cell_type": "code",
   "execution_count": 25,
   "metadata": {},
   "outputs": [],
   "source": [
    "y_pred = logreg.predict(X_test)"
   ]
  },
  {
   "cell_type": "code",
   "execution_count": 26,
   "metadata": {},
   "outputs": [
    {
     "name": "stdout",
     "output_type": "stream",
     "text": [
      "Accuracy: 0.94\n"
     ]
    }
   ],
   "source": [
    "print(f\"Accuracy: {np.mean(y_pred == y_test):.2f}\")"
   ]
  },
  {
   "cell_type": "code",
   "execution_count": 27,
   "metadata": {},
   "outputs": [
    {
     "data": {
      "text/html": [
       "<div>\n",
       "<style scoped>\n",
       "    .dataframe tbody tr th:only-of-type {\n",
       "        vertical-align: middle;\n",
       "    }\n",
       "\n",
       "    .dataframe tbody tr th {\n",
       "        vertical-align: top;\n",
       "    }\n",
       "\n",
       "    .dataframe thead th {\n",
       "        text-align: right;\n",
       "    }\n",
       "</style>\n",
       "<table border=\"1\" class=\"dataframe\">\n",
       "  <thead>\n",
       "    <tr style=\"text-align: right;\">\n",
       "      <th></th>\n",
       "      <th>Weights</th>\n",
       "    </tr>\n",
       "  </thead>\n",
       "  <tbody>\n",
       "    <tr>\n",
       "      <th>mean radius</th>\n",
       "      <td>0.000036</td>\n",
       "    </tr>\n",
       "    <tr>\n",
       "      <th>mean texture</th>\n",
       "      <td>-0.000274</td>\n",
       "    </tr>\n",
       "    <tr>\n",
       "      <th>mean perimeter</th>\n",
       "      <td>0.000469</td>\n",
       "    </tr>\n",
       "    <tr>\n",
       "      <th>mean area</th>\n",
       "      <td>-0.000116</td>\n",
       "    </tr>\n",
       "    <tr>\n",
       "      <th>mean smoothness</th>\n",
       "      <td>-0.000047</td>\n",
       "    </tr>\n",
       "    <tr>\n",
       "      <th>mean compactness</th>\n",
       "      <td>0.003991</td>\n",
       "    </tr>\n",
       "    <tr>\n",
       "      <th>mean concavity</th>\n",
       "      <td>-0.001694</td>\n",
       "    </tr>\n",
       "    <tr>\n",
       "      <th>mean concave points</th>\n",
       "      <td>-0.002343</td>\n",
       "    </tr>\n",
       "    <tr>\n",
       "      <th>mean symmetry</th>\n",
       "      <td>0.000674</td>\n",
       "    </tr>\n",
       "    <tr>\n",
       "      <th>mean fractal dimension</th>\n",
       "      <td>-0.001515</td>\n",
       "    </tr>\n",
       "    <tr>\n",
       "      <th>radius error</th>\n",
       "      <td>-0.003339</td>\n",
       "    </tr>\n",
       "    <tr>\n",
       "      <th>texture error</th>\n",
       "      <td>0.000241</td>\n",
       "    </tr>\n",
       "    <tr>\n",
       "      <th>perimeter error</th>\n",
       "      <td>0.001418</td>\n",
       "    </tr>\n",
       "    <tr>\n",
       "      <th>area error</th>\n",
       "      <td>-0.001233</td>\n",
       "    </tr>\n",
       "    <tr>\n",
       "      <th>smoothness error</th>\n",
       "      <td>-0.000398</td>\n",
       "    </tr>\n",
       "    <tr>\n",
       "      <th>compactness error</th>\n",
       "      <td>-0.001180</td>\n",
       "    </tr>\n",
       "    <tr>\n",
       "      <th>concavity error</th>\n",
       "      <td>0.003038</td>\n",
       "    </tr>\n",
       "    <tr>\n",
       "      <th>concave points error</th>\n",
       "      <td>-0.001687</td>\n",
       "    </tr>\n",
       "    <tr>\n",
       "      <th>symmetry error</th>\n",
       "      <td>0.001110</td>\n",
       "    </tr>\n",
       "    <tr>\n",
       "      <th>fractal dimension error</th>\n",
       "      <td>0.001282</td>\n",
       "    </tr>\n",
       "    <tr>\n",
       "      <th>worst radius</th>\n",
       "      <td>-0.001322</td>\n",
       "    </tr>\n",
       "    <tr>\n",
       "      <th>worst texture</th>\n",
       "      <td>-0.000945</td>\n",
       "    </tr>\n",
       "    <tr>\n",
       "      <th>worst perimeter</th>\n",
       "      <td>0.000704</td>\n",
       "    </tr>\n",
       "    <tr>\n",
       "      <th>worst area</th>\n",
       "      <td>-0.001189</td>\n",
       "    </tr>\n",
       "    <tr>\n",
       "      <th>worst smoothness</th>\n",
       "      <td>0.000296</td>\n",
       "    </tr>\n",
       "    <tr>\n",
       "      <th>worst compactness</th>\n",
       "      <td>-0.000298</td>\n",
       "    </tr>\n",
       "    <tr>\n",
       "      <th>worst concavity</th>\n",
       "      <td>-0.002455</td>\n",
       "    </tr>\n",
       "    <tr>\n",
       "      <th>worst concave points</th>\n",
       "      <td>-0.000434</td>\n",
       "    </tr>\n",
       "    <tr>\n",
       "      <th>worst symmetry</th>\n",
       "      <td>-0.002003</td>\n",
       "    </tr>\n",
       "    <tr>\n",
       "      <th>worst fractal dimension</th>\n",
       "      <td>0.000678</td>\n",
       "    </tr>\n",
       "    <tr>\n",
       "      <th>bias</th>\n",
       "      <td>-0.000484</td>\n",
       "    </tr>\n",
       "  </tbody>\n",
       "</table>\n",
       "</div>"
      ],
      "text/plain": [
       "                          Weights\n",
       "mean radius              0.000036\n",
       "mean texture            -0.000274\n",
       "mean perimeter           0.000469\n",
       "mean area               -0.000116\n",
       "mean smoothness         -0.000047\n",
       "mean compactness         0.003991\n",
       "mean concavity          -0.001694\n",
       "mean concave points     -0.002343\n",
       "mean symmetry            0.000674\n",
       "mean fractal dimension  -0.001515\n",
       "radius error            -0.003339\n",
       "texture error            0.000241\n",
       "perimeter error          0.001418\n",
       "area error              -0.001233\n",
       "smoothness error        -0.000398\n",
       "compactness error       -0.001180\n",
       "concavity error          0.003038\n",
       "concave points error    -0.001687\n",
       "symmetry error           0.001110\n",
       "fractal dimension error  0.001282\n",
       "worst radius            -0.001322\n",
       "worst texture           -0.000945\n",
       "worst perimeter          0.000704\n",
       "worst area              -0.001189\n",
       "worst smoothness         0.000296\n",
       "worst compactness       -0.000298\n",
       "worst concavity         -0.002455\n",
       "worst concave points    -0.000434\n",
       "worst symmetry          -0.002003\n",
       "worst fractal dimension  0.000678\n",
       "bias                    -0.000484"
      ]
     },
     "execution_count": 27,
     "metadata": {},
     "output_type": "execute_result"
    }
   ],
   "source": [
    "weight = pd.DataFrame(logreg.weights, index=wisc['feature_names'], columns=['Weights'])\n",
    "weight.loc['bias', 'Weights'] = logreg.bias\n",
    "weight"
   ]
  },
  {
   "cell_type": "markdown",
   "metadata": {},
   "source": [
    "# Test classification ANN"
   ]
  },
  {
   "cell_type": "code",
   "execution_count": 28,
   "metadata": {},
   "outputs": [],
   "source": [
    "ann = ANN(X_train.shape[1], 8, 1, problem='classification')"
   ]
  },
  {
   "cell_type": "code",
   "execution_count": 29,
   "metadata": {},
   "outputs": [],
   "source": [
    "device = 'mps'\n",
    "ann.to(device)\n",
    "X_train = tensor(X_train.astype(np.float32)).to(device)\n",
    "y_train = tensor(y_train.values.astype(np.float32).reshape(-1, 1)).to(device)"
   ]
  },
  {
   "cell_type": "code",
   "execution_count": 30,
   "metadata": {},
   "outputs": [
    {
     "name": "stdout",
     "output_type": "stream",
     "text": [
      "Epoch [100/10000], Loss: 0.6352\n",
      "Epoch [200/10000], Loss: 0.5857\n",
      "Epoch [300/10000], Loss: 0.5018\n",
      "Epoch [400/10000], Loss: 0.4095\n",
      "Epoch [500/10000], Loss: 0.3312\n",
      "Epoch [600/10000], Loss: 0.2678\n",
      "Epoch [700/10000], Loss: 0.2216\n",
      "Epoch [800/10000], Loss: 0.1848\n",
      "Epoch [900/10000], Loss: 0.1553\n",
      "Epoch [1000/10000], Loss: 0.1325\n",
      "Epoch [1100/10000], Loss: 0.1154\n",
      "Epoch [1200/10000], Loss: 0.1029\n",
      "Epoch [1300/10000], Loss: 0.0936\n",
      "Epoch [1400/10000], Loss: 0.0868\n",
      "Epoch [1500/10000], Loss: 0.0816\n",
      "Epoch [1600/10000], Loss: 0.0775\n",
      "Epoch [1700/10000], Loss: 0.0742\n",
      "Epoch [1800/10000], Loss: 0.0714\n",
      "Epoch [1900/10000], Loss: 0.0690\n",
      "Epoch [2000/10000], Loss: 0.0670\n",
      "Epoch [2100/10000], Loss: 0.0652\n",
      "Epoch [2200/10000], Loss: 0.0636\n",
      "Epoch [2300/10000], Loss: 0.0622\n",
      "Epoch [2400/10000], Loss: 0.0609\n",
      "Epoch [2500/10000], Loss: 0.0598\n",
      "Epoch [2600/10000], Loss: 0.0587\n",
      "Epoch [2700/10000], Loss: 0.0577\n",
      "Epoch [2800/10000], Loss: 0.0568\n",
      "Epoch [2900/10000], Loss: 0.0559\n",
      "Epoch [3000/10000], Loss: 0.0550\n",
      "Epoch [3100/10000], Loss: 0.0542\n",
      "Epoch [3200/10000], Loss: 0.0535\n",
      "Epoch [3300/10000], Loss: 0.0527\n",
      "Epoch [3400/10000], Loss: 0.0521\n",
      "Epoch [3500/10000], Loss: 0.0514\n",
      "Epoch [3600/10000], Loss: 0.0508\n",
      "Epoch [3700/10000], Loss: 0.0503\n",
      "Epoch [3800/10000], Loss: 0.0497\n",
      "Epoch [3900/10000], Loss: 0.0492\n",
      "Epoch [4000/10000], Loss: 0.0487\n",
      "Epoch [4100/10000], Loss: 0.0482\n",
      "Epoch [4200/10000], Loss: 0.0478\n",
      "Epoch [4300/10000], Loss: 0.0473\n",
      "Epoch [4400/10000], Loss: 0.0469\n",
      "Epoch [4500/10000], Loss: 0.0464\n",
      "Epoch [4600/10000], Loss: 0.0460\n",
      "Epoch [4700/10000], Loss: 0.0456\n",
      "Epoch [4800/10000], Loss: 0.0452\n",
      "Epoch [4900/10000], Loss: 0.0448\n",
      "Epoch [5000/10000], Loss: 0.0444\n",
      "Epoch [5100/10000], Loss: 0.0440\n",
      "Epoch [5200/10000], Loss: 0.0436\n",
      "Epoch [5300/10000], Loss: 0.0432\n",
      "Epoch [5400/10000], Loss: 0.0429\n",
      "Epoch [5500/10000], Loss: 0.0425\n",
      "Epoch [5600/10000], Loss: 0.0422\n",
      "Epoch [5700/10000], Loss: 0.0418\n",
      "Epoch [5800/10000], Loss: 0.0415\n",
      "Epoch [5900/10000], Loss: 0.0412\n",
      "Epoch [6000/10000], Loss: 0.0409\n",
      "Epoch [6100/10000], Loss: 0.0406\n",
      "Epoch [6200/10000], Loss: 0.0403\n",
      "Epoch [6300/10000], Loss: 0.0400\n",
      "Epoch [6400/10000], Loss: 0.0398\n",
      "Epoch [6500/10000], Loss: 0.0395\n",
      "Epoch [6600/10000], Loss: 0.0392\n",
      "Epoch [6700/10000], Loss: 0.0390\n",
      "Epoch [6800/10000], Loss: 0.0387\n",
      "Epoch [6900/10000], Loss: 0.0385\n",
      "Epoch [7000/10000], Loss: 0.0382\n",
      "Epoch [7100/10000], Loss: 0.0380\n",
      "Epoch [7200/10000], Loss: 0.0377\n",
      "Epoch [7300/10000], Loss: 0.0375\n",
      "Epoch [7400/10000], Loss: 0.0372\n",
      "Epoch [7500/10000], Loss: 0.0370\n",
      "Epoch [7600/10000], Loss: 0.0368\n",
      "Epoch [7700/10000], Loss: 0.0365\n",
      "Epoch [7800/10000], Loss: 0.0363\n",
      "Epoch [7900/10000], Loss: 0.0361\n",
      "Epoch [8000/10000], Loss: 0.0358\n",
      "Epoch [8100/10000], Loss: 0.0356\n",
      "Epoch [8200/10000], Loss: 0.0354\n",
      "Epoch [8300/10000], Loss: 0.0352\n",
      "Epoch [8400/10000], Loss: 0.0349\n",
      "Epoch [8500/10000], Loss: 0.0347\n",
      "Epoch [8600/10000], Loss: 0.0345\n",
      "Epoch [8700/10000], Loss: 0.0343\n",
      "Epoch [8800/10000], Loss: 0.0341\n",
      "Epoch [8900/10000], Loss: 0.0339\n",
      "Epoch [9000/10000], Loss: 0.0337\n",
      "Epoch [9100/10000], Loss: 0.0334\n",
      "Epoch [9200/10000], Loss: 0.0332\n",
      "Epoch [9300/10000], Loss: 0.0330\n",
      "Epoch [9400/10000], Loss: 0.0329\n",
      "Epoch [9500/10000], Loss: 0.0327\n",
      "Epoch [9600/10000], Loss: 0.0325\n",
      "Epoch [9700/10000], Loss: 0.0323\n",
      "Epoch [9800/10000], Loss: 0.0321\n",
      "Epoch [9900/10000], Loss: 0.0320\n",
      "Epoch [10000/10000], Loss: 0.0318\n"
     ]
    }
   ],
   "source": [
    "ann.fit(X_train, y_train, max_iter=10000, lr=0.01)"
   ]
  },
  {
   "cell_type": "code",
   "execution_count": 31,
   "metadata": {},
   "outputs": [],
   "source": [
    "X_test = tensor(X_test.astype(np.float32)).to(device)"
   ]
  },
  {
   "cell_type": "code",
   "execution_count": 32,
   "metadata": {},
   "outputs": [],
   "source": [
    "y_pred = ann.predict(X_test)"
   ]
  },
  {
   "cell_type": "code",
   "execution_count": 33,
   "metadata": {},
   "outputs": [],
   "source": [
    "y_pred = (y_pred > 0.5).int().flatten().to('cpu').numpy()"
   ]
  },
  {
   "cell_type": "code",
   "execution_count": 34,
   "metadata": {},
   "outputs": [
    {
     "name": "stdout",
     "output_type": "stream",
     "text": [
      "Accuracy: 0.99\n"
     ]
    }
   ],
   "source": [
    "print(f\"Accuracy: {np.mean(y_pred == y_test.values.flatten()):.2f}\")"
   ]
  },
  {
   "cell_type": "code",
   "execution_count": 35,
   "metadata": {},
   "outputs": [
    {
     "data": {
      "text/plain": [
       "[<matplotlib.lines.Line2D at 0x2b7d17280>]"
      ]
     },
     "execution_count": 35,
     "metadata": {},
     "output_type": "execute_result"
    },
    {
     "data": {
      "image/png": "[encoded data removed]",
      "text/plain": [
       "<Figure size 640x480 with 1 Axes>"
      ]
     },
     "metadata": {},
     "output_type": "display_data"
    }
   ],
   "source": [
    "plt.plot(ann.loss)"
   ]
  },
  {
   "cell_type": "markdown",
   "metadata": {},
   "source": [
    "# Test CNN"
   ]
  },
  {
   "cell_type": "code",
   "execution_count": 2,
   "metadata": {},
   "outputs": [],
   "source": [
    "from NeuralNet import CNN\n",
    "import torchvision"
   ]
  },
  {
   "cell_type": "code",
   "execution_count": 3,
   "metadata": {},
   "outputs": [],
   "source": [
    "# Use transforms.compose method to reformat images for modeling,\n",
    "# and save to variable all_transforms for later use\n",
    "batch_size = 64\n",
    "all_transforms = torchvision.transforms.Compose([torchvision.transforms.Resize((32,32)),\n",
    "                                     torchvision.transforms.ToTensor(),\n",
    "                                     torchvision.transforms.Normalize(mean=[0.4914, 0.4822, 0.4465],\n",
    "                                                          std=[0.2023, 0.1994, 0.2010])\n",
    "                                     ])\n",
    "\n",
    "# Create Training dataset\n",
    "train_dataset = torchvision.datasets.ImageFolder(root = '/Users/pax/Documents/School/udemy/ML_A-Z/Machine Learning A-Z (Codes and Datasets)/Part 8 - Deep Learning/Section 40 - Convolutional Neural Networks (CNN)/Python/dataset/training_set',\n",
    "                                             transform = all_transforms)\n",
    "\n",
    "# Create Testing dataset\n",
    "test_dataset = torchvision.datasets.ImageFolder(root = '/Users/pax/Documents/School/udemy/ML_A-Z/Machine Learning A-Z (Codes and Datasets)/Part 8 - Deep Learning/Section 40 - Convolutional Neural Networks (CNN)/Python/dataset/test_set',\n",
    "                                            transform = all_transforms,)\n",
    "\n",
    "# Instantiate loader objects to facilitate processing\n",
    "train_loader = torch.utils.data.DataLoader(dataset = train_dataset,\n",
    "                                           batch_size = batch_size,\n",
    "                                           shuffle = True)\n",
    "\n",
    "\n",
    "test_loader = torch.utils.data.DataLoader(dataset = test_dataset,\n",
    "                                           batch_size = batch_size,\n",
    "                                           shuffle = True)"
   ]
  },
  {
   "cell_type": "code",
   "execution_count": 4,
   "metadata": {},
   "outputs": [],
   "source": [
    "model = CNN(output_size=len(train_dataset.classes), device='mps')"
   ]
  },
  {
   "cell_type": "code",
   "execution_count": 5,
   "metadata": {},
   "outputs": [
    {
     "name": "stdout",
     "output_type": "stream",
     "text": [
      "Epoch [1/500], Loss: 0.6927\n",
      "Epoch [2/500], Loss: 0.6938\n",
      "Epoch [3/500], Loss: 0.6903\n",
      "Epoch [4/500], Loss: 0.6819\n",
      "Epoch [5/500], Loss: 0.6879\n",
      "Epoch [6/500], Loss: 0.6296\n",
      "Epoch [7/500], Loss: 0.6491\n",
      "Epoch [8/500], Loss: 0.6487\n",
      "Epoch [9/500], Loss: 0.6578\n",
      "Epoch [10/500], Loss: 0.5646\n",
      "Epoch [11/500], Loss: 0.6405\n",
      "Epoch [12/500], Loss: 0.5758\n",
      "Epoch [13/500], Loss: 0.6235\n",
      "Epoch [14/500], Loss: 0.5750\n",
      "Epoch [15/500], Loss: 0.6100\n",
      "Epoch [16/500], Loss: 0.6241\n",
      "Epoch [17/500], Loss: 0.6123\n",
      "Epoch [18/500], Loss: 0.5191\n",
      "Epoch [19/500], Loss: 0.5951\n",
      "Epoch [20/500], Loss: 0.5558\n",
      "Epoch [21/500], Loss: 0.5580\n",
      "Epoch [22/500], Loss: 0.5755\n",
      "Epoch [23/500], Loss: 0.5086\n",
      "Epoch [24/500], Loss: 0.5690\n",
      "Epoch [25/500], Loss: 0.5516\n",
      "Epoch [26/500], Loss: 0.5650\n",
      "Epoch [27/500], Loss: 0.5280\n",
      "Epoch [28/500], Loss: 0.5545\n",
      "Epoch [29/500], Loss: 0.4982\n",
      "Epoch [30/500], Loss: 0.5263\n",
      "Epoch [31/500], Loss: 0.5318\n",
      "Epoch [32/500], Loss: 0.5179\n",
      "Epoch [33/500], Loss: 0.6440\n",
      "Epoch [34/500], Loss: 0.5625\n",
      "Epoch [35/500], Loss: 0.5064\n",
      "Epoch [36/500], Loss: 0.5521\n",
      "Epoch [37/500], Loss: 0.5130\n",
      "Epoch [38/500], Loss: 0.5502\n",
      "Epoch [39/500], Loss: 0.5616\n",
      "Epoch [40/500], Loss: 0.5397\n",
      "Epoch [41/500], Loss: 0.5088\n",
      "Epoch [42/500], Loss: 0.4808\n",
      "Epoch [43/500], Loss: 0.5304\n",
      "Epoch [44/500], Loss: 0.5409\n",
      "Epoch [45/500], Loss: 0.4383\n",
      "Epoch [46/500], Loss: 0.4489\n",
      "Epoch [47/500], Loss: 0.5202\n",
      "Epoch [48/500], Loss: 0.4828\n",
      "Epoch [49/500], Loss: 0.4944\n",
      "Epoch [50/500], Loss: 0.5419\n",
      "Epoch [51/500], Loss: 0.4638\n",
      "Epoch [52/500], Loss: 0.5281\n",
      "Epoch [53/500], Loss: 0.4909\n",
      "Epoch [54/500], Loss: 0.5318\n",
      "Epoch [55/500], Loss: 0.5515\n",
      "Epoch [56/500], Loss: 0.4917\n",
      "Epoch [57/500], Loss: 0.4908\n",
      "Epoch [58/500], Loss: 0.5457\n",
      "Epoch [59/500], Loss: 0.5182\n",
      "Epoch [60/500], Loss: 0.4726\n",
      "Epoch [61/500], Loss: 0.5035\n",
      "Epoch [62/500], Loss: 0.4520\n",
      "Epoch [63/500], Loss: 0.4978\n",
      "Epoch [64/500], Loss: 0.4245\n",
      "Epoch [65/500], Loss: 0.4357\n",
      "Epoch [66/500], Loss: 0.4975\n",
      "Epoch [67/500], Loss: 0.4941\n",
      "Epoch [68/500], Loss: 0.4694\n",
      "Epoch [69/500], Loss: 0.5208\n",
      "Epoch [70/500], Loss: 0.4999\n",
      "Epoch [71/500], Loss: 0.4738\n",
      "Epoch [72/500], Loss: 0.4634\n",
      "Epoch [73/500], Loss: 0.4736\n",
      "Epoch [74/500], Loss: 0.4489\n",
      "Epoch [75/500], Loss: 0.4395\n",
      "Epoch [76/500], Loss: 0.5377\n",
      "Epoch [77/500], Loss: 0.5005\n",
      "Epoch [78/500], Loss: 0.5095\n",
      "Epoch [79/500], Loss: 0.5424\n",
      "Epoch [80/500], Loss: 0.4417\n",
      "Epoch [81/500], Loss: 0.4924\n",
      "Epoch [82/500], Loss: 0.5174\n",
      "Epoch [83/500], Loss: 0.5024\n",
      "Epoch [84/500], Loss: 0.5160\n",
      "Epoch [85/500], Loss: 0.4855\n",
      "Epoch [86/500], Loss: 0.4943\n",
      "Epoch [87/500], Loss: 0.5342\n",
      "Epoch [88/500], Loss: 0.4937\n",
      "Epoch [89/500], Loss: 0.5103\n",
      "Epoch [90/500], Loss: 0.4957\n",
      "Epoch [91/500], Loss: 0.4286\n",
      "Epoch [92/500], Loss: 0.4701\n",
      "Epoch [93/500], Loss: 0.4991\n",
      "Epoch [94/500], Loss: 0.4534\n",
      "Epoch [95/500], Loss: 0.4643\n",
      "Epoch [96/500], Loss: 0.4766\n",
      "Epoch [97/500], Loss: 0.4961\n",
      "Epoch [98/500], Loss: 0.4408\n",
      "Epoch [99/500], Loss: 0.5720\n",
      "Epoch [100/500], Loss: 0.4373\n",
      "Epoch [101/500], Loss: 0.4963\n",
      "Epoch [102/500], Loss: 0.4943\n",
      "Epoch [103/500], Loss: 0.4859\n",
      "Epoch [104/500], Loss: 0.4307\n",
      "Epoch [105/500], Loss: 0.4871\n",
      "Epoch [106/500], Loss: 0.4633\n",
      "Epoch [107/500], Loss: 0.4349\n",
      "Epoch [108/500], Loss: 0.4520\n",
      "Epoch [109/500], Loss: 0.5392\n",
      "Epoch [110/500], Loss: 0.4654\n",
      "Epoch [111/500], Loss: 0.5257\n",
      "Epoch [112/500], Loss: 0.4742\n",
      "Epoch [113/500], Loss: 0.4372\n",
      "Epoch [114/500], Loss: 0.4421\n",
      "Epoch [115/500], Loss: 0.4321\n",
      "Epoch [116/500], Loss: 0.4389\n",
      "Epoch [117/500], Loss: 0.4523\n",
      "Epoch [118/500], Loss: 0.4217\n",
      "Epoch [119/500], Loss: 0.4351\n",
      "Epoch [120/500], Loss: 0.4544\n",
      "Epoch [121/500], Loss: 0.5225\n",
      "Epoch [122/500], Loss: 0.4282\n",
      "Epoch [123/500], Loss: 0.4374\n",
      "Epoch [124/500], Loss: 0.5134\n",
      "Epoch [125/500], Loss: 0.4957\n",
      "Epoch [126/500], Loss: 0.4613\n",
      "Epoch [127/500], Loss: 0.5041\n",
      "Epoch [128/500], Loss: 0.4301\n",
      "Epoch [129/500], Loss: 0.4248\n",
      "Epoch [130/500], Loss: 0.4240\n",
      "Epoch [131/500], Loss: 0.4833\n",
      "Epoch [132/500], Loss: 0.4725\n",
      "Epoch [133/500], Loss: 0.4666\n",
      "Epoch [134/500], Loss: 0.4883\n",
      "Epoch [135/500], Loss: 0.4026\n",
      "Epoch [136/500], Loss: 0.5092\n",
      "Epoch [137/500], Loss: 0.4395\n",
      "Epoch [138/500], Loss: 0.4879\n",
      "Epoch [139/500], Loss: 0.4108\n",
      "Epoch [140/500], Loss: 0.4747\n",
      "Epoch [141/500], Loss: 0.4624\n",
      "Epoch [142/500], Loss: 0.4665\n",
      "Epoch [143/500], Loss: 0.5098\n",
      "Epoch [144/500], Loss: 0.3947\n",
      "Epoch [145/500], Loss: 0.4880\n",
      "Epoch [146/500], Loss: 0.4323\n",
      "Epoch [147/500], Loss: 0.4268\n",
      "Epoch [148/500], Loss: 0.4442\n",
      "Epoch [149/500], Loss: 0.4413\n",
      "Epoch [150/500], Loss: 0.4821\n",
      "Epoch [151/500], Loss: 0.5184\n",
      "Epoch [152/500], Loss: 0.4982\n",
      "Epoch [153/500], Loss: 0.4218\n",
      "Epoch [154/500], Loss: 0.4571\n",
      "Epoch [155/500], Loss: 0.4275\n",
      "Epoch [156/500], Loss: 0.4468\n",
      "Epoch [157/500], Loss: 0.4535\n",
      "Epoch [158/500], Loss: 0.4431\n",
      "Epoch [159/500], Loss: 0.5023\n",
      "Epoch [160/500], Loss: 0.4426\n",
      "Epoch [161/500], Loss: 0.4118\n",
      "Epoch [162/500], Loss: 0.4399\n",
      "Epoch [163/500], Loss: 0.4532\n",
      "Epoch [164/500], Loss: 0.4003\n",
      "Epoch [165/500], Loss: 0.4700\n",
      "Epoch [166/500], Loss: 0.4503\n",
      "Epoch [167/500], Loss: 0.4494\n",
      "Epoch [168/500], Loss: 0.4621\n",
      "Epoch [169/500], Loss: 0.4374\n",
      "Epoch [170/500], Loss: 0.4456\n",
      "Epoch [171/500], Loss: 0.4839\n",
      "Epoch [172/500], Loss: 0.4191\n",
      "Epoch [173/500], Loss: 0.4928\n",
      "Epoch [174/500], Loss: 0.4603\n",
      "Epoch [175/500], Loss: 0.5077\n",
      "Epoch [176/500], Loss: 0.4206\n",
      "Epoch [177/500], Loss: 0.4567\n",
      "Epoch [178/500], Loss: 0.4751\n",
      "Epoch [179/500], Loss: 0.4702\n",
      "Epoch [180/500], Loss: 0.5263\n",
      "Epoch [181/500], Loss: 0.4214\n",
      "Epoch [182/500], Loss: 0.4063\n",
      "Epoch [183/500], Loss: 0.4682\n",
      "Epoch [184/500], Loss: 0.4729\n",
      "Epoch [185/500], Loss: 0.4175\n",
      "Epoch [186/500], Loss: 0.4116\n",
      "Epoch [187/500], Loss: 0.5008\n",
      "Epoch [188/500], Loss: 0.4183\n",
      "Epoch [189/500], Loss: 0.4365\n",
      "Epoch [190/500], Loss: 0.4274\n",
      "Epoch [191/500], Loss: 0.3674\n",
      "Epoch [192/500], Loss: 0.3831\n",
      "Epoch [193/500], Loss: 0.4194\n",
      "Epoch [194/500], Loss: 0.3866\n",
      "Epoch [195/500], Loss: 0.4157\n",
      "Epoch [196/500], Loss: 0.4527\n",
      "Epoch [197/500], Loss: 0.4121\n",
      "Epoch [198/500], Loss: 0.4015\n",
      "Epoch [199/500], Loss: 0.4162\n",
      "Epoch [200/500], Loss: 0.4685\n",
      "Epoch [201/500], Loss: 0.4467\n",
      "Epoch [202/500], Loss: 0.4112\n",
      "Epoch [203/500], Loss: 0.4519\n",
      "Epoch [204/500], Loss: 0.4225\n",
      "Epoch [205/500], Loss: 0.4782\n",
      "Epoch [206/500], Loss: 0.4315\n",
      "Epoch [207/500], Loss: 0.4142\n",
      "Epoch [208/500], Loss: 0.4314\n",
      "Epoch [209/500], Loss: 0.4238\n",
      "Epoch [210/500], Loss: 0.4581\n",
      "Epoch [211/500], Loss: 0.4836\n",
      "Epoch [212/500], Loss: 0.4241\n",
      "Epoch [213/500], Loss: 0.4498\n",
      "Epoch [214/500], Loss: 0.3919\n",
      "Epoch [215/500], Loss: 0.4313\n",
      "Epoch [216/500], Loss: 0.4753\n",
      "Epoch [217/500], Loss: 0.4100\n",
      "Epoch [218/500], Loss: 0.3931\n",
      "Epoch [219/500], Loss: 0.4441\n",
      "Epoch [220/500], Loss: 0.3935\n",
      "Epoch [221/500], Loss: 0.4438\n",
      "Epoch [222/500], Loss: 0.4176\n",
      "Epoch [223/500], Loss: 0.4847\n",
      "Epoch [224/500], Loss: 0.4453\n",
      "Epoch [225/500], Loss: 0.4138\n",
      "Epoch [226/500], Loss: 0.4591\n",
      "Epoch [227/500], Loss: 0.4862\n",
      "Epoch [228/500], Loss: 0.3862\n",
      "Epoch [229/500], Loss: 0.4055\n",
      "Epoch [230/500], Loss: 0.3977\n",
      "Epoch [231/500], Loss: 0.3962\n",
      "Epoch [232/500], Loss: 0.4462\n",
      "Epoch [233/500], Loss: 0.4245\n",
      "Epoch [234/500], Loss: 0.4146\n",
      "Epoch [235/500], Loss: 0.4376\n",
      "Epoch [236/500], Loss: 0.3985\n",
      "Epoch [237/500], Loss: 0.3987\n",
      "Epoch [238/500], Loss: 0.5171\n",
      "Epoch [239/500], Loss: 0.3884\n",
      "Epoch [240/500], Loss: 0.4186\n",
      "Epoch [241/500], Loss: 0.3946\n",
      "Epoch [242/500], Loss: 0.3864\n",
      "Epoch [243/500], Loss: 0.4450\n",
      "Epoch [244/500], Loss: 0.3822\n",
      "Epoch [245/500], Loss: 0.4228\n",
      "Epoch [246/500], Loss: 0.3877\n",
      "Epoch [247/500], Loss: 0.3966\n",
      "Epoch [248/500], Loss: 0.3854\n",
      "Epoch [249/500], Loss: 0.3733\n",
      "Epoch [250/500], Loss: 0.4291\n",
      "Epoch [251/500], Loss: 0.4272\n",
      "Epoch [252/500], Loss: 0.4034\n",
      "Epoch [253/500], Loss: 0.4220\n",
      "Epoch [254/500], Loss: 0.4228\n",
      "Epoch [255/500], Loss: 0.3599\n",
      "Epoch [256/500], Loss: 0.4161\n",
      "Epoch [257/500], Loss: 0.4203\n",
      "Epoch [258/500], Loss: 0.4317\n",
      "Epoch [259/500], Loss: 0.4167\n",
      "Epoch [260/500], Loss: 0.4166\n",
      "Epoch [261/500], Loss: 0.4151\n",
      "Epoch [262/500], Loss: 0.3985\n",
      "Epoch [263/500], Loss: 0.4155\n",
      "Epoch [264/500], Loss: 0.3899\n",
      "Epoch [265/500], Loss: 0.3710\n",
      "Epoch [266/500], Loss: 0.4577\n",
      "Epoch [267/500], Loss: 0.3562\n",
      "Epoch [268/500], Loss: 0.4101\n",
      "Epoch [269/500], Loss: 0.3750\n",
      "Epoch [270/500], Loss: 0.4183\n",
      "Epoch [271/500], Loss: 0.3523\n",
      "Epoch [272/500], Loss: 0.3902\n",
      "Epoch [273/500], Loss: 0.3777\n",
      "Epoch [274/500], Loss: 0.4316\n",
      "Epoch [275/500], Loss: 0.3438\n",
      "Epoch [276/500], Loss: 0.3937\n",
      "Epoch [277/500], Loss: 0.4580\n",
      "Epoch [278/500], Loss: 0.4266\n",
      "Epoch [279/500], Loss: 0.4219\n",
      "Epoch [280/500], Loss: 0.4474\n",
      "Epoch [281/500], Loss: 0.4389\n",
      "Epoch [282/500], Loss: 0.4486\n",
      "Epoch [283/500], Loss: 0.3946\n",
      "Epoch [284/500], Loss: 0.3796\n",
      "Epoch [285/500], Loss: 0.3531\n",
      "Epoch [286/500], Loss: 0.3923\n",
      "Epoch [287/500], Loss: 0.4064\n",
      "Epoch [288/500], Loss: 0.3745\n",
      "Epoch [289/500], Loss: 0.3878\n",
      "Epoch [290/500], Loss: 0.4553\n",
      "Epoch [291/500], Loss: 0.4590\n",
      "Epoch [292/500], Loss: 0.3918\n",
      "Epoch [293/500], Loss: 0.4442\n",
      "Epoch [294/500], Loss: 0.3853\n",
      "Epoch [295/500], Loss: 0.4085\n",
      "Epoch [296/500], Loss: 0.4255\n",
      "Epoch [297/500], Loss: 0.3952\n",
      "Epoch [298/500], Loss: 0.3839\n",
      "Epoch [299/500], Loss: 0.4555\n",
      "Epoch [300/500], Loss: 0.4739\n",
      "Epoch [301/500], Loss: 0.4299\n",
      "Epoch [302/500], Loss: 0.3696\n",
      "Epoch [303/500], Loss: 0.3594\n",
      "Epoch [304/500], Loss: 0.3991\n",
      "Epoch [305/500], Loss: 0.3712\n",
      "Epoch [306/500], Loss: 0.3567\n",
      "Epoch [307/500], Loss: 0.3800\n",
      "Epoch [308/500], Loss: 0.3741\n",
      "Epoch [309/500], Loss: 0.4006\n",
      "Epoch [310/500], Loss: 0.3844\n",
      "Epoch [311/500], Loss: 0.4192\n",
      "Epoch [312/500], Loss: 0.3957\n",
      "Epoch [313/500], Loss: 0.3782\n",
      "Epoch [314/500], Loss: 0.4293\n",
      "Epoch [315/500], Loss: 0.3898\n",
      "Epoch [316/500], Loss: 0.3923\n",
      "Epoch [317/500], Loss: 0.3904\n",
      "Epoch [318/500], Loss: 0.3958\n",
      "Epoch [319/500], Loss: 0.4210\n",
      "Epoch [320/500], Loss: 0.4181\n",
      "Epoch [321/500], Loss: 0.3742\n",
      "Epoch [322/500], Loss: 0.4027\n",
      "Epoch [323/500], Loss: 0.3744\n",
      "Epoch [324/500], Loss: 0.3740\n",
      "Epoch [325/500], Loss: 0.3650\n",
      "Epoch [326/500], Loss: 0.3749\n",
      "Epoch [327/500], Loss: 0.3655\n",
      "Epoch [328/500], Loss: 0.3940\n",
      "Epoch [329/500], Loss: 0.3793\n",
      "Epoch [330/500], Loss: 0.4451\n",
      "Epoch [331/500], Loss: 0.3708\n",
      "Epoch [332/500], Loss: 0.4003\n",
      "Epoch [333/500], Loss: 0.4010\n",
      "Epoch [334/500], Loss: 0.3597\n",
      "Epoch [335/500], Loss: 0.3623\n",
      "Epoch [336/500], Loss: 0.3940\n",
      "Epoch [337/500], Loss: 0.3703\n",
      "Epoch [338/500], Loss: 0.3501\n",
      "Epoch [339/500], Loss: 0.3560\n",
      "Epoch [340/500], Loss: 0.4282\n",
      "Epoch [341/500], Loss: 0.4067\n",
      "Epoch [342/500], Loss: 0.3847\n",
      "Epoch [343/500], Loss: 0.3767\n",
      "Epoch [344/500], Loss: 0.3581\n",
      "Epoch [345/500], Loss: 0.3973\n",
      "Epoch [346/500], Loss: 0.3799\n",
      "Epoch [347/500], Loss: 0.3920\n",
      "Epoch [348/500], Loss: 0.4099\n",
      "Epoch [349/500], Loss: 0.3864\n",
      "Epoch [350/500], Loss: 0.3616\n",
      "Epoch [351/500], Loss: 0.3486\n",
      "Epoch [352/500], Loss: 0.3525\n",
      "Epoch [353/500], Loss: 0.3969\n",
      "Epoch [354/500], Loss: 0.3432\n",
      "Epoch [355/500], Loss: 0.3479\n",
      "Epoch [356/500], Loss: 0.4074\n",
      "Epoch [357/500], Loss: 0.3843\n",
      "Epoch [358/500], Loss: 0.3537\n",
      "Epoch [359/500], Loss: 0.3740\n",
      "Epoch [360/500], Loss: 0.3808\n",
      "Epoch [361/500], Loss: 0.3564\n",
      "Epoch [362/500], Loss: 0.3769\n",
      "Epoch [363/500], Loss: 0.3678\n",
      "Epoch [364/500], Loss: 0.3801\n",
      "Epoch [365/500], Loss: 0.3759\n",
      "Epoch [366/500], Loss: 0.3821\n",
      "Epoch [367/500], Loss: 0.3827\n",
      "Epoch [368/500], Loss: 0.3472\n",
      "Epoch [369/500], Loss: 0.3790\n",
      "Epoch [370/500], Loss: 0.3625\n",
      "Epoch [371/500], Loss: 0.3858\n",
      "Epoch [372/500], Loss: 0.3709\n",
      "Epoch [373/500], Loss: 0.3819\n",
      "Epoch [374/500], Loss: 0.3894\n",
      "Epoch [375/500], Loss: 0.3506\n",
      "Epoch [376/500], Loss: 0.3836\n",
      "Epoch [377/500], Loss: 0.3585\n",
      "Epoch [378/500], Loss: 0.3784\n",
      "Epoch [379/500], Loss: 0.3455\n",
      "Epoch [380/500], Loss: 0.3924\n",
      "Epoch [381/500], Loss: 0.3634\n",
      "Epoch [382/500], Loss: 0.3322\n",
      "Epoch [383/500], Loss: 0.3670\n",
      "Epoch [384/500], Loss: 0.3483\n",
      "Epoch [385/500], Loss: 0.4033\n",
      "Epoch [386/500], Loss: 0.3369\n",
      "Epoch [387/500], Loss: 0.3450\n",
      "Epoch [388/500], Loss: 0.3619\n",
      "Epoch [389/500], Loss: 0.4161\n",
      "Epoch [390/500], Loss: 0.3913\n",
      "Epoch [391/500], Loss: 0.3786\n",
      "Epoch [392/500], Loss: 0.3726\n",
      "Epoch [393/500], Loss: 0.3767\n",
      "Epoch [394/500], Loss: 0.3796\n",
      "Epoch [395/500], Loss: 0.3912\n",
      "Epoch [396/500], Loss: 0.3754\n",
      "Epoch [397/500], Loss: 0.3553\n",
      "Epoch [398/500], Loss: 0.3726\n",
      "Epoch [399/500], Loss: 0.3495\n",
      "Epoch [400/500], Loss: 0.3577\n",
      "Epoch [401/500], Loss: 0.3748\n",
      "Epoch [402/500], Loss: 0.3449\n",
      "Epoch [403/500], Loss: 0.3576\n",
      "Epoch [404/500], Loss: 0.3586\n",
      "Epoch [405/500], Loss: 0.3439\n",
      "Epoch [406/500], Loss: 0.3490\n",
      "Epoch [407/500], Loss: 0.3304\n",
      "Epoch [408/500], Loss: 0.3724\n",
      "Epoch [409/500], Loss: 0.3421\n",
      "Epoch [410/500], Loss: 0.3567\n",
      "Epoch [411/500], Loss: 0.3819\n",
      "Epoch [412/500], Loss: 0.3560\n",
      "Epoch [413/500], Loss: 0.3807\n",
      "Epoch [414/500], Loss: 0.3719\n",
      "Epoch [415/500], Loss: 0.3814\n",
      "Epoch [416/500], Loss: 0.3676\n",
      "Epoch [417/500], Loss: 0.3325\n",
      "Epoch [418/500], Loss: 0.3719\n",
      "Epoch [419/500], Loss: 0.3671\n",
      "Epoch [420/500], Loss: 0.3582\n",
      "Epoch [421/500], Loss: 0.3680\n",
      "Epoch [422/500], Loss: 0.4027\n",
      "Epoch [423/500], Loss: 0.4094\n",
      "Epoch [424/500], Loss: 0.3602\n",
      "Epoch [425/500], Loss: 0.3749\n",
      "Epoch [426/500], Loss: 0.3665\n",
      "Epoch [427/500], Loss: 0.3763\n",
      "Epoch [428/500], Loss: 0.4032\n",
      "Epoch [429/500], Loss: 0.3571\n",
      "Epoch [430/500], Loss: 0.3302\n",
      "Epoch [431/500], Loss: 0.4142\n",
      "Epoch [432/500], Loss: 0.3402\n",
      "Epoch [433/500], Loss: 0.3731\n",
      "Epoch [434/500], Loss: 0.3498\n",
      "Epoch [435/500], Loss: 0.3856\n",
      "Epoch [436/500], Loss: 0.3727\n",
      "Epoch [437/500], Loss: 0.3502\n",
      "Epoch [438/500], Loss: 0.3626\n",
      "Epoch [439/500], Loss: 0.3597\n",
      "Epoch [440/500], Loss: 0.3449\n",
      "Epoch [441/500], Loss: 0.3599\n",
      "Epoch [442/500], Loss: 0.3503\n",
      "Epoch [443/500], Loss: 0.3620\n",
      "Epoch [444/500], Loss: 0.3717\n",
      "Epoch [445/500], Loss: 0.3819\n",
      "Epoch [446/500], Loss: 0.3491\n",
      "Epoch [447/500], Loss: 0.3737\n",
      "Epoch [448/500], Loss: 0.3894\n",
      "Epoch [449/500], Loss: 0.4075\n",
      "Epoch [450/500], Loss: 0.3625\n",
      "Epoch [451/500], Loss: 0.3501\n",
      "Epoch [452/500], Loss: 0.3575\n",
      "Epoch [453/500], Loss: 0.3557\n",
      "Epoch [454/500], Loss: 0.3442\n",
      "Epoch [455/500], Loss: 0.3723\n",
      "Epoch [456/500], Loss: 0.3612\n",
      "Epoch [457/500], Loss: 0.3617\n",
      "Epoch [458/500], Loss: 0.3709\n",
      "Epoch [459/500], Loss: 0.3810\n",
      "Epoch [460/500], Loss: 0.4039\n",
      "Epoch [461/500], Loss: 0.3702\n",
      "Epoch [462/500], Loss: 0.3415\n",
      "Epoch [463/500], Loss: 0.3899\n",
      "Epoch [464/500], Loss: 0.3856\n",
      "Epoch [465/500], Loss: 0.3581\n",
      "Epoch [466/500], Loss: 0.3535\n",
      "Epoch [467/500], Loss: 0.3684\n",
      "Epoch [468/500], Loss: 0.3688\n",
      "Epoch [469/500], Loss: 0.3532\n",
      "Epoch [470/500], Loss: 0.3471\n",
      "Epoch [471/500], Loss: 0.3585\n",
      "Epoch [472/500], Loss: 0.3526\n",
      "Epoch [473/500], Loss: 0.3448\n",
      "Epoch [474/500], Loss: 0.3893\n",
      "Epoch [475/500], Loss: 0.3617\n",
      "Epoch [476/500], Loss: 0.3394\n",
      "Epoch [477/500], Loss: 0.3700\n",
      "Epoch [478/500], Loss: 0.3882\n",
      "Epoch [479/500], Loss: 0.3677\n",
      "Epoch [480/500], Loss: 0.3740\n",
      "Epoch [481/500], Loss: 0.3743\n",
      "Epoch [482/500], Loss: 0.3585\n",
      "Epoch [483/500], Loss: 0.3485\n",
      "Epoch [484/500], Loss: 0.4187\n",
      "Epoch [485/500], Loss: 0.3441\n",
      "Epoch [486/500], Loss: 0.3727\n",
      "Epoch [487/500], Loss: 0.3537\n",
      "Epoch [488/500], Loss: 0.3409\n",
      "Epoch [489/500], Loss: 0.3789\n",
      "Epoch [490/500], Loss: 0.3567\n",
      "Epoch [491/500], Loss: 0.3927\n",
      "Epoch [492/500], Loss: 0.3479\n",
      "Epoch [493/500], Loss: 0.3246\n",
      "Epoch [494/500], Loss: 0.4003\n",
      "Epoch [495/500], Loss: 0.3476\n",
      "Epoch [496/500], Loss: 0.3413\n",
      "Epoch [497/500], Loss: 0.3482\n",
      "Epoch [498/500], Loss: 0.3485\n",
      "Epoch [499/500], Loss: 0.3772\n",
      "Epoch [500/500], Loss: 0.3609\n"
     ]
    }
   ],
   "source": [
    "model.fit(train_loader, max_iter=500, lr=0.01)"
   ]
  },
  {
   "cell_type": "code",
   "execution_count": 6,
   "metadata": {},
   "outputs": [
    {
     "name": "stdout",
     "output_type": "stream",
     "text": [
      "Accuracy of the network on the 2000 test images: 77.3 %\n"
     ]
    }
   ],
   "source": [
    "with torch.no_grad():\n",
    "    correct = 0\n",
    "    total = 0\n",
    "    for images, labels in test_loader:\n",
    "        images = images.to('mps')\n",
    "        labels = labels.to('mps')\n",
    "        outputs = model.predict(images)\n",
    "        _, predicted = torch.max(outputs.data, 1)\n",
    "        total += labels.size(0)\n",
    "        correct += (predicted == labels).sum().item()\n",
    "    \n",
    "    print('Accuracy of the network on the {} test images: {} %'.format(total, 100 * correct / total))"
   ]
  },
  {
   "cell_type": "code",
   "execution_count": 7,
   "metadata": {},
   "outputs": [
    {
     "data": {
      "text/plain": [
       "[<matplotlib.lines.Line2D at 0x2c473a8c0>]"
      ]
     },
     "execution_count": 7,
     "metadata": {},
     "output_type": "execute_result"
    },
    {
     "data": {
      "image/png": "[encoded data removed]",
      "text/plain": [
       "<Figure size 640x480 with 1 Axes>"
      ]
     },
     "metadata": {},
     "output_type": "display_data"
    }
   ],
   "source": [
    "plt.plot(model.loss)"
   ]
  },
  {
   "cell_type": "code",
   "execution_count": null,
   "metadata": {},
   "outputs": [],
   "source": []
  }
 ],
 "metadata": {
  "kernelspec": {
   "display_name": "365_DS",
   "language": "python",
   "name": "python3"
  },
  "language_info": {
   "codemirror_mode": {
    "name": "ipython",
    "version": 3
   },
   "file_extension": ".py",
   "mimetype": "text/x-python",
   "name": "python",
   "nbconvert_exporter": "python",
   "pygments_lexer": "ipython3",
   "version": "3.10.10"
  }
 },
 "nbformat": 4,
 "nbformat_minor": 2
}
